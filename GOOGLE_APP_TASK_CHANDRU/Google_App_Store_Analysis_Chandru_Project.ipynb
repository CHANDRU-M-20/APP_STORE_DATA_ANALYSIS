{
 "cells": [
  {
   "cell_type": "markdown",
   "id": "daac1466",
   "metadata": {},
   "source": [
    "## NAME:CHANDRU M\n",
    "## DATASET:GOOGLE APP STORE .\n",
    "\n",
    "## OBJECTIVE:MAKE A MODEL TO PREEDICT THE APP RATING.\n",
    "\n",
    "\n",
    "## PROBLEM STATEMENT:\n",
    "###### Google Play Store team is about to launch a new feature wherein, certain apps that are promising, are boosted in visibility. The boost will manifest in multiple ways including higher priority in recommendations sections (“Similar apps”, “You might also like”, “New and updated games”). These will also get a boost in search results visibility.  This feature will help bring more attention to newer apps that have the potential."
   ]
  },
  {
   "cell_type": "markdown",
   "id": "f5a9432d",
   "metadata": {},
   "source": [
    "## DATASET COLUMNS DESCRIPTION\n",
    "\n",
    "#### 1.App: Application name\n",
    "#### 2.Category: Category the app belongs to\n",
    "#### 3.Rating: Overall user rating of the app (as when scraped)\n",
    "#### 4.Reviews: Number of user reviews for the app (as when scraped)\n",
    "#### 5.Size: Size of the app (as when scraped)\n",
    "#### 6.Installs: Number of user downloads/installs for the app (as when scraped)\n",
    "#### 7.Type: Paid or Free\n",
    "#### 8.Price: Price of the app (as when scraped)\n",
    "#### 9.Content: Rating Age group the app is targeted at - Children / Mature 21+ / Adult\n",
    "#### 10.Genres: An app can belong to multiple genres (apart from its main category). For eg, a musical family game will belong to Music, Game, Family genres.\n",
    "#### 11.Last Updated: Date when the app was last updated on Play Store (as when scraped)\n",
    "#### 12.Current Ver: Current version of the app available on Play Store (as when scraped)\n",
    "#### 13.Android Ver: Min required Android version (as when scraped)\n"
   ]
  },
  {
   "cell_type": "markdown",
   "id": "dbca127a",
   "metadata": {},
   "source": [
    "## STEPS TO PERFORM\n",
    "## IMPORTING LIBRARIES AND DATASETS\n",
    "##### LOAD THE DATA FILE USING PANDAS.\n"
   ]
  },
  {
   "cell_type": "code",
   "execution_count": 1,
   "id": "ebe0c154",
   "metadata": {},
   "outputs": [],
   "source": [
    "import pandas as pd                   # Importing pandas for data analytics with the alias name pd.\n",
    "import numpy as np                    # Importing numpy for data analytics with the alias name np.\n",
    "import matplotlib.pyplot as plt       # Importing matplotlib and Seaborn Library for visualization.\n",
    "import seaborn as sns\n",
    "import string                         #Importing string function to manipulate the string problems using string.punctuation. \n",
    "from sklearn import preprocessing\n",
    "from termcolor import colored          "
   ]
  },
  {
   "cell_type": "code",
   "execution_count": 2,
   "id": "1f949472",
   "metadata": {},
   "outputs": [],
   "source": [
    "df=pd.read_csv('googleplaystore.csv') #Read the 'googleplaystore.csv' file using pandas alias name pd and store into the df(DataFrame)"
   ]
  },
  {
   "cell_type": "code",
   "execution_count": 3,
   "id": "39284d5a",
   "metadata": {},
   "outputs": [
    {
     "data": {
      "text/html": [
       "<div>\n",
       "<style scoped>\n",
       "    .dataframe tbody tr th:only-of-type {\n",
       "        vertical-align: middle;\n",
       "    }\n",
       "\n",
       "    .dataframe tbody tr th {\n",
       "        vertical-align: top;\n",
       "    }\n",
       "\n",
       "    .dataframe thead th {\n",
       "        text-align: right;\n",
       "    }\n",
       "</style>\n",
       "<table border=\"1\" class=\"dataframe\">\n",
       "  <thead>\n",
       "    <tr style=\"text-align: right;\">\n",
       "      <th></th>\n",
       "      <th>App</th>\n",
       "      <th>Category</th>\n",
       "      <th>Rating</th>\n",
       "      <th>Reviews</th>\n",
       "      <th>Size</th>\n",
       "      <th>Installs#########</th>\n",
       "      <th>Type</th>\n",
       "      <th>Price</th>\n",
       "      <th>Content Rating</th>\n",
       "      <th>Genres</th>\n",
       "      <th>Last Updated</th>\n",
       "      <th>Current Ver</th>\n",
       "      <th>Android Ver</th>\n",
       "    </tr>\n",
       "  </thead>\n",
       "  <tbody>\n",
       "    <tr>\n",
       "      <th>0</th>\n",
       "      <td>Photo Editor &amp; Candy Camera &amp; Grid &amp; ScrapBook</td>\n",
       "      <td>ART_AND_DESIGN</td>\n",
       "      <td>4.1</td>\n",
       "      <td>159</td>\n",
       "      <td>19M</td>\n",
       "      <td>10,000+</td>\n",
       "      <td>Free</td>\n",
       "      <td>0</td>\n",
       "      <td>Everyone</td>\n",
       "      <td>Art &amp; Design</td>\n",
       "      <td>07-Jan-18</td>\n",
       "      <td>1.0.0</td>\n",
       "      <td>4.0.3 and up</td>\n",
       "    </tr>\n",
       "    <tr>\n",
       "      <th>1</th>\n",
       "      <td>Coloring book moana</td>\n",
       "      <td>ART_AND_DESIGN</td>\n",
       "      <td>3.9</td>\n",
       "      <td>967</td>\n",
       "      <td>14M</td>\n",
       "      <td>500,000+</td>\n",
       "      <td>Free</td>\n",
       "      <td>0</td>\n",
       "      <td>Everyone</td>\n",
       "      <td>Art &amp; Design;Pretend Play</td>\n",
       "      <td>15-Jan-18</td>\n",
       "      <td>2.0.0</td>\n",
       "      <td>4.0.3 and up</td>\n",
       "    </tr>\n",
       "    <tr>\n",
       "      <th>2</th>\n",
       "      <td>U Launcher Lite – FREE Live Cool Themes, Hide ...</td>\n",
       "      <td>ART_AND_DESIGN</td>\n",
       "      <td>4.7</td>\n",
       "      <td>87510</td>\n",
       "      <td>8.7M</td>\n",
       "      <td>5,000,000+</td>\n",
       "      <td>Free</td>\n",
       "      <td>0</td>\n",
       "      <td>Everyone</td>\n",
       "      <td>Art &amp; Design</td>\n",
       "      <td>01-Aug-18</td>\n",
       "      <td>1.2.4</td>\n",
       "      <td>4.0.3 and up</td>\n",
       "    </tr>\n",
       "    <tr>\n",
       "      <th>3</th>\n",
       "      <td>Sketch - Draw &amp; Paint</td>\n",
       "      <td>ART_AND_DESIGN</td>\n",
       "      <td>4.5</td>\n",
       "      <td>215644</td>\n",
       "      <td>25M</td>\n",
       "      <td>50,000,000+</td>\n",
       "      <td>Free</td>\n",
       "      <td>0</td>\n",
       "      <td>Teen</td>\n",
       "      <td>Art &amp; Design</td>\n",
       "      <td>08-Jun-18</td>\n",
       "      <td>Varies with device</td>\n",
       "      <td>4.2 and up</td>\n",
       "    </tr>\n",
       "    <tr>\n",
       "      <th>4</th>\n",
       "      <td>Pixel Draw - Number Art Coloring Book</td>\n",
       "      <td>ART_AND_DESIGN</td>\n",
       "      <td>4.3</td>\n",
       "      <td>967</td>\n",
       "      <td>2.8M</td>\n",
       "      <td>100,000+</td>\n",
       "      <td>Free</td>\n",
       "      <td>0</td>\n",
       "      <td>Everyone</td>\n",
       "      <td>Art &amp; Design;Creativity</td>\n",
       "      <td>20-Jun-18</td>\n",
       "      <td>1.1</td>\n",
       "      <td>4.4 and up</td>\n",
       "    </tr>\n",
       "  </tbody>\n",
       "</table>\n",
       "</div>"
      ],
      "text/plain": [
       "                                                 App        Category Rating  \\\n",
       "0     Photo Editor & Candy Camera & Grid & ScrapBook  ART_AND_DESIGN    4.1   \n",
       "1                                Coloring book moana  ART_AND_DESIGN    3.9   \n",
       "2  U Launcher Lite – FREE Live Cool Themes, Hide ...  ART_AND_DESIGN    4.7   \n",
       "3                              Sketch - Draw & Paint  ART_AND_DESIGN    4.5   \n",
       "4              Pixel Draw - Number Art Coloring Book  ART_AND_DESIGN    4.3   \n",
       "\n",
       "  Reviews                                     Size Installs#########  Type  \\\n",
       "0     159                                      19M           10,000+  Free   \n",
       "1     967                                      14M          500,000+  Free   \n",
       "2   87510                                     8.7M        5,000,000+  Free   \n",
       "3  215644                                      25M       50,000,000+  Free   \n",
       "4     967                                     2.8M          100,000+  Free   \n",
       "\n",
       "  Price Content Rating                     Genres Last Updated  \\\n",
       "0     0       Everyone               Art & Design    07-Jan-18   \n",
       "1     0       Everyone  Art & Design;Pretend Play    15-Jan-18   \n",
       "2     0       Everyone               Art & Design    01-Aug-18   \n",
       "3     0           Teen               Art & Design    08-Jun-18   \n",
       "4     0       Everyone    Art & Design;Creativity    20-Jun-18   \n",
       "\n",
       "          Current Ver   Android Ver  \n",
       "0               1.0.0  4.0.3 and up  \n",
       "1               2.0.0  4.0.3 and up  \n",
       "2               1.2.4  4.0.3 and up  \n",
       "3  Varies with device    4.2 and up  \n",
       "4                 1.1    4.4 and up  "
      ]
     },
     "execution_count": 3,
     "metadata": {},
     "output_type": "execute_result"
    }
   ],
   "source": [
    "df.head()                   #Check the Top 5 df rows using head function (The index value start from 0)"
   ]
  },
  {
   "cell_type": "code",
   "execution_count": 4,
   "id": "0736a7b6",
   "metadata": {},
   "outputs": [
    {
     "name": "stdout",
     "output_type": "stream",
     "text": [
      "Shapes of the DataFrame(df):\n",
      "Rows    :10841\n",
      "Columns :13\n"
     ]
    }
   ],
   "source": [
    "print(f'Shapes of the DataFrame(df):\\nRows    :{df.shape[0]}\\nColumns :{df.shape[1]}')           #Check the df shape "
   ]
  },
  {
   "cell_type": "markdown",
   "id": "2fadf987",
   "metadata": {},
   "source": [
    "#####  Clean the data in terms of column names and imput ethe special chars with max occuring value of column."
   ]
  },
  {
   "cell_type": "code",
   "execution_count": 5,
   "id": "68a863af",
   "metadata": {},
   "outputs": [
    {
     "name": "stdout",
     "output_type": "stream",
     "text": [
      "\u001b[1m\u001b[34mCheck the columns name and index value\u001b[0m\n",
      "Colunm name is : Installs######### and the index value is : 5\n"
     ]
    }
   ],
   "source": [
    "print(colored('Check the columns name and index value', 'blue',attrs=['bold']))\n",
    "string_punctuation=string.punctuation                     # string.punctuation contains list of all special characters values like this ['!\"#$%&\\'()*+,-./:;<=>?@[\\\\]^_`{|}~']\n",
    "string_punctuation_check=list(string_punctuation)         #  Clean the data in terms of column names\n",
    "for j in range(len(string_punctuation_check)):    \n",
    "    for i in range(len(df.columns)):\n",
    "        if (string_punctuation_check[j] in df.columns[i]):\n",
    "            print(f'Colunm name is : {df.columns[i]} and the index value is : {i}')"
   ]
  },
  {
   "cell_type": "code",
   "execution_count": 6,
   "id": "b870f8cd",
   "metadata": {},
   "outputs": [
    {
     "data": {
      "text/plain": [
       "Index(['App', 'Category', 'Rating', 'Reviews',\n",
       "       '                                    Size', 'Installs#########', 'Type',\n",
       "       'Price', 'Content Rating', 'Genres', 'Last Updated', 'Current Ver',\n",
       "       'Android Ver'],\n",
       "      dtype='object')"
      ]
     },
     "execution_count": 6,
     "metadata": {},
     "output_type": "execute_result"
    }
   ],
   "source": [
    "df.columns #Checking if the column names are without special characters and empty string"
   ]
  },
  {
   "cell_type": "code",
   "execution_count": 7,
   "id": "03017259",
   "metadata": {},
   "outputs": [
    {
     "name": "stdout",
     "output_type": "stream",
     "text": [
      "Index(['App', 'Category', 'Rating', 'Reviews',\n",
      "       '                                    Size', 'Installs', 'Type', 'Price',\n",
      "       'Content Rating', 'Genres', 'Last Updated', 'Current Ver',\n",
      "       'Android Ver'],\n",
      "      dtype='object')\n",
      "\n",
      "Index(['App', 'Category', 'Rating', 'Reviews', 'Size', 'Installs', 'Type',\n",
      "       'Price', 'Content Rating', 'Genres', 'Last Updated', 'Current Ver',\n",
      "       'Android Ver'],\n",
      "      dtype='object')\n"
     ]
    },
    {
     "data": {
      "text/html": [
       "<div>\n",
       "<style scoped>\n",
       "    .dataframe tbody tr th:only-of-type {\n",
       "        vertical-align: middle;\n",
       "    }\n",
       "\n",
       "    .dataframe tbody tr th {\n",
       "        vertical-align: top;\n",
       "    }\n",
       "\n",
       "    .dataframe thead th {\n",
       "        text-align: right;\n",
       "    }\n",
       "</style>\n",
       "<table border=\"1\" class=\"dataframe\">\n",
       "  <thead>\n",
       "    <tr style=\"text-align: right;\">\n",
       "      <th></th>\n",
       "      <th>App</th>\n",
       "      <th>Category</th>\n",
       "      <th>Rating</th>\n",
       "      <th>Reviews</th>\n",
       "      <th>Size</th>\n",
       "      <th>Installs</th>\n",
       "      <th>Type</th>\n",
       "      <th>Price</th>\n",
       "      <th>Content Rating</th>\n",
       "      <th>Genres</th>\n",
       "      <th>Last Updated</th>\n",
       "      <th>Current Ver</th>\n",
       "      <th>Android Ver</th>\n",
       "    </tr>\n",
       "  </thead>\n",
       "  <tbody>\n",
       "    <tr>\n",
       "      <th>0</th>\n",
       "      <td>Photo Editor &amp; Candy Camera &amp; Grid &amp; ScrapBook</td>\n",
       "      <td>ART_AND_DESIGN</td>\n",
       "      <td>4.1</td>\n",
       "      <td>159</td>\n",
       "      <td>19M</td>\n",
       "      <td>10,000+</td>\n",
       "      <td>Free</td>\n",
       "      <td>0</td>\n",
       "      <td>Everyone</td>\n",
       "      <td>Art &amp; Design</td>\n",
       "      <td>07-Jan-18</td>\n",
       "      <td>1.0.0</td>\n",
       "      <td>4.0.3 and up</td>\n",
       "    </tr>\n",
       "    <tr>\n",
       "      <th>1</th>\n",
       "      <td>Coloring book moana</td>\n",
       "      <td>ART_AND_DESIGN</td>\n",
       "      <td>3.9</td>\n",
       "      <td>967</td>\n",
       "      <td>14M</td>\n",
       "      <td>500,000+</td>\n",
       "      <td>Free</td>\n",
       "      <td>0</td>\n",
       "      <td>Everyone</td>\n",
       "      <td>Art &amp; Design;Pretend Play</td>\n",
       "      <td>15-Jan-18</td>\n",
       "      <td>2.0.0</td>\n",
       "      <td>4.0.3 and up</td>\n",
       "    </tr>\n",
       "    <tr>\n",
       "      <th>2</th>\n",
       "      <td>U Launcher Lite – FREE Live Cool Themes, Hide ...</td>\n",
       "      <td>ART_AND_DESIGN</td>\n",
       "      <td>4.7</td>\n",
       "      <td>87510</td>\n",
       "      <td>8.7M</td>\n",
       "      <td>5,000,000+</td>\n",
       "      <td>Free</td>\n",
       "      <td>0</td>\n",
       "      <td>Everyone</td>\n",
       "      <td>Art &amp; Design</td>\n",
       "      <td>01-Aug-18</td>\n",
       "      <td>1.2.4</td>\n",
       "      <td>4.0.3 and up</td>\n",
       "    </tr>\n",
       "    <tr>\n",
       "      <th>3</th>\n",
       "      <td>Sketch - Draw &amp; Paint</td>\n",
       "      <td>ART_AND_DESIGN</td>\n",
       "      <td>4.5</td>\n",
       "      <td>215644</td>\n",
       "      <td>25M</td>\n",
       "      <td>50,000,000+</td>\n",
       "      <td>Free</td>\n",
       "      <td>0</td>\n",
       "      <td>Teen</td>\n",
       "      <td>Art &amp; Design</td>\n",
       "      <td>08-Jun-18</td>\n",
       "      <td>Varies with device</td>\n",
       "      <td>4.2 and up</td>\n",
       "    </tr>\n",
       "    <tr>\n",
       "      <th>4</th>\n",
       "      <td>Pixel Draw - Number Art Coloring Book</td>\n",
       "      <td>ART_AND_DESIGN</td>\n",
       "      <td>4.3</td>\n",
       "      <td>967</td>\n",
       "      <td>2.8M</td>\n",
       "      <td>100,000+</td>\n",
       "      <td>Free</td>\n",
       "      <td>0</td>\n",
       "      <td>Everyone</td>\n",
       "      <td>Art &amp; Design;Creativity</td>\n",
       "      <td>20-Jun-18</td>\n",
       "      <td>1.1</td>\n",
       "      <td>4.4 and up</td>\n",
       "    </tr>\n",
       "  </tbody>\n",
       "</table>\n",
       "</div>"
      ],
      "text/plain": [
       "                                                 App        Category Rating  \\\n",
       "0     Photo Editor & Candy Camera & Grid & ScrapBook  ART_AND_DESIGN    4.1   \n",
       "1                                Coloring book moana  ART_AND_DESIGN    3.9   \n",
       "2  U Launcher Lite – FREE Live Cool Themes, Hide ...  ART_AND_DESIGN    4.7   \n",
       "3                              Sketch - Draw & Paint  ART_AND_DESIGN    4.5   \n",
       "4              Pixel Draw - Number Art Coloring Book  ART_AND_DESIGN    4.3   \n",
       "\n",
       "  Reviews  Size     Installs  Type Price Content Rating  \\\n",
       "0     159   19M      10,000+  Free     0       Everyone   \n",
       "1     967   14M     500,000+  Free     0       Everyone   \n",
       "2   87510  8.7M   5,000,000+  Free     0       Everyone   \n",
       "3  215644   25M  50,000,000+  Free     0           Teen   \n",
       "4     967  2.8M     100,000+  Free     0       Everyone   \n",
       "\n",
       "                      Genres Last Updated         Current Ver   Android Ver  \n",
       "0               Art & Design    07-Jan-18               1.0.0  4.0.3 and up  \n",
       "1  Art & Design;Pretend Play    15-Jan-18               2.0.0  4.0.3 and up  \n",
       "2               Art & Design    01-Aug-18               1.2.4  4.0.3 and up  \n",
       "3               Art & Design    08-Jun-18  Varies with device    4.2 and up  \n",
       "4    Art & Design;Creativity    20-Jun-18                 1.1    4.4 and up  "
      ]
     },
     "execution_count": 7,
     "metadata": {},
     "output_type": "execute_result"
    }
   ],
   "source": [
    "df.columns=df.columns.str.replace('['+string_punctuation+']','',regex=True)    #Replacing all the special characters to empty string\n",
    "print(df.columns)\n",
    "print()\n",
    "df.columns=df.columns.str.strip()   #Replacing all empty space to empty string\n",
    "print(df.columns)\n",
    "df.head()\n"
   ]
  },
  {
   "cell_type": "markdown",
   "id": "659d35f2",
   "metadata": {},
   "source": [
    "#####  Impute the special chars with max occuring value of column"
   ]
  },
  {
   "cell_type": "code",
   "execution_count": 8,
   "id": "48146797",
   "metadata": {},
   "outputs": [
    {
     "name": "stdout",
     "output_type": "stream",
     "text": [
      "string_punctuation value:!\"#$%&'()*+,-./:;<=>?@[\\]^_`{|}~ and length is \u001b[1m\u001b[34m32\u001b[0m \n",
      "dot index : \u001b[1m\u001b[34m13\u001b[0m\n",
      "The length of string_punctuation,after removing dot value \u001b[1m\u001b[34m31\u001b[0m \n",
      "minus_index : \u001b[1m\u001b[34m12\u001b[0m\n",
      "The length of string_punctuation,after removing minus value \u001b[1m\u001b[34m30\u001b[0m \n"
     ]
    }
   ],
   "source": [
    "\n",
    "val=colored(str(len(string_punctuation)),'blue',attrs=['bold'])\n",
    "print(f'string_punctuation value:{string_punctuation} and length is {val} ')\n",
    "\n",
    "dot_index=string_punctuation.index('.')\n",
    "string_punctuation=string_punctuation[:dot_index]+string_punctuation[dot_index+1:]\n",
    "val=colored(str(len(string_punctuation)),'blue',attrs=['bold'])\n",
    "val1=colored(dot_index,'blue',attrs=['bold'])\n",
    "print(f'dot index : {val1}\\nThe length of string_punctuation,after removing dot value {val} ')\n",
    "\n",
    "minus_index=string_punctuation.index('-')\n",
    "string_punctuation=string_punctuation[:minus_index]+string_punctuation[minus_index+1:]\n",
    "val1=colored(minus_index,'blue',attrs=['bold'])\n",
    "val=colored(str(len(string_punctuation)),'blue',attrs=['bold'])\n",
    "print(f'minus_index : {val1}\\nThe length of string_punctuation,after removing minus value {val} ')\n",
    "# print(list(string_punctuation))\n"
   ]
  },
  {
   "cell_type": "code",
   "execution_count": 9,
   "id": "755d429c",
   "metadata": {},
   "outputs": [
    {
     "data": {
      "text/html": [
       "<div>\n",
       "<style scoped>\n",
       "    .dataframe tbody tr th:only-of-type {\n",
       "        vertical-align: middle;\n",
       "    }\n",
       "\n",
       "    .dataframe tbody tr th {\n",
       "        vertical-align: top;\n",
       "    }\n",
       "\n",
       "    .dataframe thead th {\n",
       "        text-align: right;\n",
       "    }\n",
       "</style>\n",
       "<table border=\"1\" class=\"dataframe\">\n",
       "  <thead>\n",
       "    <tr style=\"text-align: right;\">\n",
       "      <th></th>\n",
       "      <th>App</th>\n",
       "      <th>Category</th>\n",
       "      <th>Rating</th>\n",
       "      <th>Reviews</th>\n",
       "      <th>Size</th>\n",
       "      <th>Installs</th>\n",
       "      <th>Type</th>\n",
       "      <th>Price</th>\n",
       "      <th>Content Rating</th>\n",
       "      <th>Genres</th>\n",
       "      <th>Last Updated</th>\n",
       "      <th>Current Ver</th>\n",
       "      <th>Android Ver</th>\n",
       "    </tr>\n",
       "  </thead>\n",
       "  <tbody>\n",
       "    <tr>\n",
       "      <th>0</th>\n",
       "      <td>Photo Editor  Candy Camera  Grid  ScrapBook</td>\n",
       "      <td>ARTANDDESIGN</td>\n",
       "      <td>4.1</td>\n",
       "      <td>159</td>\n",
       "      <td>19M</td>\n",
       "      <td>10000</td>\n",
       "      <td>Free</td>\n",
       "      <td>0</td>\n",
       "      <td>Everyone</td>\n",
       "      <td>Art  Design</td>\n",
       "      <td>07-Jan-18</td>\n",
       "      <td>1.0.0</td>\n",
       "      <td>4.0.3 and up</td>\n",
       "    </tr>\n",
       "    <tr>\n",
       "      <th>1</th>\n",
       "      <td>Coloring book moana</td>\n",
       "      <td>ARTANDDESIGN</td>\n",
       "      <td>3.9</td>\n",
       "      <td>967</td>\n",
       "      <td>14M</td>\n",
       "      <td>500000</td>\n",
       "      <td>Free</td>\n",
       "      <td>0</td>\n",
       "      <td>Everyone</td>\n",
       "      <td>Art  DesignPretend Play</td>\n",
       "      <td>15-Jan-18</td>\n",
       "      <td>2.0.0</td>\n",
       "      <td>4.0.3 and up</td>\n",
       "    </tr>\n",
       "    <tr>\n",
       "      <th>2</th>\n",
       "      <td>U Launcher Lite – FREE Live Cool Themes Hide Apps</td>\n",
       "      <td>ARTANDDESIGN</td>\n",
       "      <td>4.7</td>\n",
       "      <td>87510</td>\n",
       "      <td>8.7M</td>\n",
       "      <td>5000000</td>\n",
       "      <td>Free</td>\n",
       "      <td>0</td>\n",
       "      <td>Everyone</td>\n",
       "      <td>Art  Design</td>\n",
       "      <td>01-Aug-18</td>\n",
       "      <td>1.2.4</td>\n",
       "      <td>4.0.3 and up</td>\n",
       "    </tr>\n",
       "    <tr>\n",
       "      <th>3</th>\n",
       "      <td>Sketch - Draw  Paint</td>\n",
       "      <td>ARTANDDESIGN</td>\n",
       "      <td>4.5</td>\n",
       "      <td>215644</td>\n",
       "      <td>25M</td>\n",
       "      <td>50000000</td>\n",
       "      <td>Free</td>\n",
       "      <td>0</td>\n",
       "      <td>Teen</td>\n",
       "      <td>Art  Design</td>\n",
       "      <td>08-Jun-18</td>\n",
       "      <td>Varies with device</td>\n",
       "      <td>4.2 and up</td>\n",
       "    </tr>\n",
       "    <tr>\n",
       "      <th>4</th>\n",
       "      <td>Pixel Draw - Number Art Coloring Book</td>\n",
       "      <td>ARTANDDESIGN</td>\n",
       "      <td>4.3</td>\n",
       "      <td>967</td>\n",
       "      <td>2.8M</td>\n",
       "      <td>100000</td>\n",
       "      <td>Free</td>\n",
       "      <td>0</td>\n",
       "      <td>Everyone</td>\n",
       "      <td>Art  DesignCreativity</td>\n",
       "      <td>20-Jun-18</td>\n",
       "      <td>1.1</td>\n",
       "      <td>4.4 and up</td>\n",
       "    </tr>\n",
       "  </tbody>\n",
       "</table>\n",
       "</div>"
      ],
      "text/plain": [
       "                                                 App      Category Rating  \\\n",
       "0        Photo Editor  Candy Camera  Grid  ScrapBook  ARTANDDESIGN    4.1   \n",
       "1                                Coloring book moana  ARTANDDESIGN    3.9   \n",
       "2  U Launcher Lite – FREE Live Cool Themes Hide Apps  ARTANDDESIGN    4.7   \n",
       "3                               Sketch - Draw  Paint  ARTANDDESIGN    4.5   \n",
       "4              Pixel Draw - Number Art Coloring Book  ARTANDDESIGN    4.3   \n",
       "\n",
       "  Reviews  Size  Installs  Type Price Content Rating                   Genres  \\\n",
       "0     159   19M     10000  Free     0       Everyone              Art  Design   \n",
       "1     967   14M    500000  Free     0       Everyone  Art  DesignPretend Play   \n",
       "2   87510  8.7M   5000000  Free     0       Everyone              Art  Design   \n",
       "3  215644   25M  50000000  Free     0           Teen              Art  Design   \n",
       "4     967  2.8M    100000  Free     0       Everyone    Art  DesignCreativity   \n",
       "\n",
       "  Last Updated         Current Ver   Android Ver  \n",
       "0    07-Jan-18               1.0.0  4.0.3 and up  \n",
       "1    15-Jan-18               2.0.0  4.0.3 and up  \n",
       "2    01-Aug-18               1.2.4  4.0.3 and up  \n",
       "3    08-Jun-18  Varies with device    4.2 and up  \n",
       "4    20-Jun-18                 1.1    4.4 and up  "
      ]
     },
     "execution_count": 9,
     "metadata": {},
     "output_type": "execute_result"
    }
   ],
   "source": [
    "df=df.replace('['+string_punctuation+']','',regex=True) # replacing the special characters in the data to empty string\n",
    "for i in df.columns:    \n",
    "    df[i]=df[i].replace('',df[i].mode().iloc[0],regex=True)\n",
    "df.head()"
   ]
  },
  {
   "cell_type": "markdown",
   "id": "3ca67819",
   "metadata": {},
   "source": [
    "###### Check for null values in the data. Get the number of null values for each column.\n"
   ]
  },
  {
   "cell_type": "code",
   "execution_count": 10,
   "id": "95d73fa1",
   "metadata": {},
   "outputs": [
    {
     "data": {
      "text/plain": [
       "App               0\n",
       "Category          0\n",
       "Rating            0\n",
       "Reviews           0\n",
       "Size              0\n",
       "Installs          0\n",
       "Type              1\n",
       "Price             0\n",
       "Content Rating    1\n",
       "Genres            0\n",
       "Last Updated      0\n",
       "Current Ver       8\n",
       "Android Ver       3\n",
       "dtype: int64"
      ]
     },
     "execution_count": 10,
     "metadata": {},
     "output_type": "execute_result"
    }
   ],
   "source": [
    "df.isnull().sum() # Drop records with nulls in any of the columns."
   ]
  },
  {
   "cell_type": "code",
   "execution_count": 11,
   "id": "e4a6e444",
   "metadata": {},
   "outputs": [
    {
     "name": "stdout",
     "output_type": "stream",
     "text": [
      "App\n",
      "['Photo Editor  Candy Camera  Grid  ScrapBook' 'Coloring book moana'\n",
      " 'U Launcher Lite – FREE Live Cool Themes Hide Apps' ...\n",
      " 'Parkinson Exercices FR' 'The SCP Foundation DB fr nn5n'\n",
      " 'iHoroscope - 2018 Daily Horoscope  Astrology']\n",
      "\n",
      "Category\n",
      "['ARTANDDESIGN' 'AUTOANDVEHICLES' 'BEAUTY' 'BOOKSANDREFERENCE' 'BUSINESS'\n",
      " 'COMICS' 'COMMUNICATION' 'DATING' 'EDUCATION' 'ENTERTAINMENT' 'EVENTS'\n",
      " 'FINANCE' 'FOODANDDRINK' 'HEALTHANDFITNESS' 'HOUSEANDHOME'\n",
      " 'LIBRARIESANDDEMO' 'LIFESTYLE' 'GAME' 'FAMILY' 'MEDICAL' 'SOCIAL'\n",
      " 'SHOPPING' 'PHOTOGRAPHY' 'SPORTS' 'TRAVELANDLOCAL' 'TOOLS'\n",
      " 'PERSONALIZATION' 'PRODUCTIVITY' 'PARENTING' 'WEATHER' 'VIDEOPLAYERS'\n",
      " 'NEWSANDMAGAZINES' 'MAPSANDNAVIGATION' '1.9']\n",
      "\n",
      "Rating\n",
      "['4.1' '3.9' '4.7' '4.5' '4.3' '4.4' '3.8' '600000000' '4.6' '3.2' '4'\n",
      " '1.2' '4.8' '4.2' '4.9' '3.6' '3.7' '3.3' '3.4' '3.5' '3.1' '5' '2.6' '3'\n",
      " '1.9' '2.5' '2.8' '2.7' '1' '2.9' '2.3' '2.2' '1.7' '2' '1.8' '2.4' '1.6'\n",
      " '2.1' '1.4' '1.5' '19']\n",
      "\n",
      "Reviews\n",
      "['159' '967' '87510' ... '603' '1195' '398307']\n",
      "\n",
      "Size\n",
      "['19M' '14M' '8.7M' '25M' '2.8M' '5.6M' '29M' '33M' '3.1M' '28M' '12M'\n",
      " '20M' '21M' '37M' '2.7M' '5.5M' '17M' '39M' '31M' '4.2M' '7.0M' '23M'\n",
      " '6.0M' '6.1M' '4.6M' '9.2M' '5.2M' '11M' '24M' 'Varies with device'\n",
      " '9.4M' '15M' '10M' '1.2M' '26M' '8.0M' '7.9M' '56M' '57M' '35M' '54M'\n",
      " '201k' '3.6M' '5.7M' '8.6M' '2.4M' '27M' '2.5M' '16M' '3.4M' '8.9M'\n",
      " '3.9M' '2.9M' '38M' '32M' '5.4M' '18M' '1.1M' '2.2M' '4.5M' '9.8M' '52M'\n",
      " '9.0M' '6.7M' '30M' '2.6M' '7.1M' '3.7M' '22M' '7.4M' '6.4M' '3.2M'\n",
      " '8.2M' '9.9M' '4.9M' '9.5M' '5.0M' '5.9M' '13M' '73M' '6.8M' '3.5M'\n",
      " '4.0M' '2.3M' '7.2M' '2.1M' '42M' '7.3M' '9.1M' '55M' '23k' '6.5M' '1.5M'\n",
      " '7.5M' '51M' '41M' '48M' '8.5M' '46M' '8.3M' '4.3M' '4.7M' '3.3M' '40M'\n",
      " '7.8M' '8.8M' '6.6M' '5.1M' '61M' '66M' '79k' '8.4M' '118k' '44M' '695k'\n",
      " '1.6M' '6.2M' '18k' '53M' '1.4M' '3.0M' '5.8M' '3.8M' '9.6M' '45M' '63M'\n",
      " '49M' '77M' '4.4M' '4.8M' '70M' '6.9M' '9.3M' '10.0M' '8.1M' '36M' '84M'\n",
      " '97M' '2.0M' '1.9M' '1.8M' '5.3M' '47M' '556k' '526k' '76M' '7.6M' '59M'\n",
      " '9.7M' '78M' '72M' '43M' '7.7M' '6.3M' '334k' '34M' '93M' '65M' '79M'\n",
      " '100M' '58M' '50M' '68M' '64M' '67M' '60M' '94M' '232k' '99M' '624k'\n",
      " '95M' '8.5k' '41k' '292k' '11k' '80M' '1.7M' '74M' '62M' '69M' '75M'\n",
      " '98M' '85M' '82M' '96M' '87M' '71M' '86M' '91M' '81M' '92M' '83M' '88M'\n",
      " '704k' '862k' '899k' '378k' '266k' '375k' '1.3M' '975k' '980k' '4.1M'\n",
      " '89M' '696k' '544k' '525k' '920k' '779k' '853k' '720k' '713k' '772k'\n",
      " '318k' '58k' '241k' '196k' '857k' '51k' '953k' '865k' '251k' '930k'\n",
      " '540k' '313k' '746k' '203k' '26k' '314k' '239k' '371k' '220k' '730k'\n",
      " '756k' '91k' '293k' '17k' '74k' '14k' '317k' '78k' '924k' '902k' '818k'\n",
      " '81k' '939k' '169k' '45k' '475k' '965k' '90M' '545k' '61k' '283k' '655k'\n",
      " '714k' '93k' '872k' '121k' '322k' '1.0M' '976k' '172k' '238k' '549k'\n",
      " '206k' '954k' '444k' '717k' '210k' '609k' '308k' '705k' '306k' '904k'\n",
      " '473k' '175k' '350k' '383k' '454k' '421k' '70k' '812k' '442k' '842k'\n",
      " '417k' '412k' '459k' '478k' '335k' '782k' '721k' '430k' '429k' '192k'\n",
      " '200k' '460k' '728k' '496k' '816k' '414k' '506k' '887k' '613k' '243k'\n",
      " '569k' '778k' '683k' '592k' '319k' '186k' '840k' '647k' '191k' '373k'\n",
      " '437k' '598k' '716k' '585k' '982k' '222k' '219k' '55k' '948k' '323k'\n",
      " '691k' '511k' '951k' '963k' '25k' '554k' '351k' '27k' '82k' '208k' '913k'\n",
      " '514k' '551k' '29k' '103k' '898k' '743k' '116k' '153k' '209k' '353k'\n",
      " '499k' '173k' '597k' '809k' '122k' '411k' '400k' '801k' '787k' '237k'\n",
      " '50k' '643k' '986k' '97k' '516k' '837k' '780k' '961k' '269k' '20k' '498k'\n",
      " '600k' '749k' '642k' '881k' '72k' '656k' '601k' '221k' '228k' '108k'\n",
      " '940k' '176k' '33k' '663k' '34k' '942k' '259k' '164k' '458k' '245k'\n",
      " '629k' '28k' '288k' '775k' '785k' '636k' '916k' '994k' '309k' '485k'\n",
      " '914k' '903k' '608k' '500k' '54k' '562k' '847k' '957k' '688k' '811k'\n",
      " '270k' '48k' '329k' '523k' '921k' '874k' '981k' '784k' '280k' '24k'\n",
      " '518k' '754k' '892k' '154k' '860k' '364k' '387k' '626k' '161k' '879k'\n",
      " '39k' '970k' '170k' '141k' '160k' '144k' '143k' '190k' '376k' '193k'\n",
      " '246k' '73k' '658k' '992k' '253k' '420k' '404k' '1000' '470k' '226k'\n",
      " '240k' '89k' '234k' '257k' '861k' '467k' '157k' '44k' '676k' '67k' '552k'\n",
      " '885k' '1020k' '582k' '619k']\n",
      "\n",
      "Installs\n",
      "['10000' '500000' '5000000' '50000000' '100000' '50000' '1000000'\n",
      " '10000000' '5000' '100000000' '1000000000' '1000' '500000000' '50' '100'\n",
      " '500' '10' '1' '5' '0' 'Free']\n",
      "\n",
      "Type\n",
      "['Free' 'Paid' nan '0']\n",
      "\n",
      "Price\n",
      "['0' '4.99 ' '3.99 ' '6.99 ' '1.49 ' '2.99 ' '7.99 ' '5.99 ' '3.49 '\n",
      " '1.99 ' '9.99 ' '7.49 ' '0.99 ' '9.00 ' '5.49 ' '10.00 ' '24.99 '\n",
      " '11.99 ' '79.99 ' '16.99 ' '14.99 ' '1.00 ' '29.99 ' '12.99 ' '2.49 '\n",
      " '10.99 ' '1.50 ' '19.99 ' '15.99 ' '33.99 ' '74.99 ' '39.99 ' '3.95 '\n",
      " '4.49 ' '1.70 ' '8.99 ' '2.00 ' '3.88 ' '25.99 ' '399.99 ' '17.99 '\n",
      " '400.00 ' '3.02 ' '1.76 ' '4.84 ' '4.77 ' '1.61 ' '2.50 ' '1.59 ' '6.49 '\n",
      " '1.29 ' '5.00 ' '13.99 ' '299.99 ' '379.99 ' '37.99 ' '18.99 ' '389.99 '\n",
      " '19.90 ' '8.49 ' '1.75 ' '14.00 ' '4.85 ' '46.99 ' '109.99 ' '154.99 '\n",
      " '3.08 ' '2.59 ' '4.80 ' '1.96 ' '19.40 ' '3.90 ' '4.59 ' '15.46 ' '3.04 '\n",
      " '4.29 ' '2.60 ' '3.28 ' '4.60 ' '28.99 ' '2.95 ' '2.90 ' '1.97 '\n",
      " '200.00 ' '89.99 ' '2.56 ' '30.99 ' '3.61 ' '394.99 ' '1.26 ' 'Everyone'\n",
      " '1.20 ' '1.04 ']\n",
      "\n",
      "Content Rating\n",
      "['Everyone' 'Teen' 'Everyone 10' 'Mature 17' 'Adults only 18' 'Unrated'\n",
      " nan]\n",
      "\n",
      "Genres\n",
      "['Art  Design' 'Art  DesignPretend Play' 'Art  DesignCreativity'\n",
      " 'Art  DesignAction  Adventure' 'Auto  Vehicles' 'Beauty'\n",
      " 'Books  Reference' 'Business' 'Comics' 'ComicsCreativity' 'Communication'\n",
      " 'Dating' 'EducationEducation' 'Education' 'EducationCreativity'\n",
      " 'EducationMusic  Video' 'EducationAction  Adventure'\n",
      " 'EducationPretend Play' 'EducationBrain Games' 'Entertainment'\n",
      " 'EntertainmentMusic  Video' 'EntertainmentBrain Games'\n",
      " 'EntertainmentCreativity' 'Events' 'Finance' 'Food  Drink'\n",
      " 'Health  Fitness' 'House  Home' 'Libraries  Demo' 'Lifestyle'\n",
      " 'LifestylePretend Play' 'AdventureAction  Adventure' 'Arcade' 'Casual'\n",
      " 'Card' 'CasualPretend Play' 'Action' 'Strategy' 'Puzzle' 'Sports' 'Music'\n",
      " 'Word' 'Racing' 'CasualCreativity' 'CasualAction  Adventure' 'Simulation'\n",
      " 'Adventure' 'Board' 'Trivia' 'Role Playing' 'SimulationEducation'\n",
      " 'ActionAction  Adventure' 'CasualBrain Games'\n",
      " 'SimulationAction  Adventure' 'EducationalCreativity' 'PuzzleBrain Games'\n",
      " 'EducationalEducation' 'CardBrain Games' 'EducationalBrain Games'\n",
      " 'EducationalPretend Play' 'EntertainmentEducation' 'CasualEducation'\n",
      " 'MusicMusic  Video' 'RacingAction  Adventure' 'ArcadePretend Play'\n",
      " 'Role PlayingAction  Adventure' 'SimulationPretend Play'\n",
      " 'PuzzleCreativity' 'SportsAction  Adventure'\n",
      " 'EducationalAction  Adventure' 'ArcadeAction  Adventure'\n",
      " 'EntertainmentAction  Adventure' 'PuzzleAction  Adventure'\n",
      " 'StrategyAction  Adventure' 'Music  AudioMusic  Video'\n",
      " 'Health  FitnessEducation' 'AdventureEducation' 'BoardBrain Games'\n",
      " 'BoardAction  Adventure' 'BoardPretend Play' 'CasualMusic  Video'\n",
      " 'Role PlayingPretend Play' 'EntertainmentPretend Play'\n",
      " 'Video Players  EditorsCreativity' 'CardAction  Adventure' 'Medical'\n",
      " 'Social' 'Shopping' 'Photography' 'Travel  Local'\n",
      " 'Travel  LocalAction  Adventure' 'Tools' 'ToolsEducation'\n",
      " 'Personalization' 'Productivity' 'Parenting' 'ParentingMusic  Video'\n",
      " 'ParentingEducation' 'ParentingBrain Games' 'Weather'\n",
      " 'Video Players  Editors' 'Video Players  EditorsMusic  Video'\n",
      " 'News  Magazines' 'Maps  Navigation' 'Health  FitnessAction  Adventure'\n",
      " 'Educational' 'Casino' 'AdventureBrain Games' 'TriviaEducation'\n",
      " 'LifestyleEducation' 'Books  ReferenceCreativity'\n",
      " 'Books  ReferenceEducation' 'PuzzleEducation' 'Role PlayingEducation'\n",
      " 'Role PlayingBrain Games' 'StrategyEducation' 'RacingPretend Play'\n",
      " 'CommunicationCreativity' '11-Feb-18' 'StrategyCreativity']\n",
      "\n",
      "Last Updated\n",
      "['07-Jan-18' '15-Jan-18' '01-Aug-18' ... '20-Jan-14' '16-Feb-14'\n",
      " '23-Mar-14']\n",
      "\n",
      "Current Ver\n",
      "['1.0.0' '2.0.0' '1.2.4' ... '1.0.612928' '0.3.4' '2.0.148.0']\n",
      "\n",
      "Android Ver\n",
      "['4.0.3 and up' '4.2 and up' '4.4 and up' '2.3 and up' '3.0 and up'\n",
      " '4.1 and up' '4.0 and up' '2.3.3 and up' 'Varies with device'\n",
      " '2.2 and up' '5.0 and up' '6.0 and up' '1.6 and up' '1.5 and up'\n",
      " '2.1 and up' '7.0 and up' '5.1 and up' '4.3 and up' '4.0.3 - 7.1.1'\n",
      " '2.0 and up' '3.2 and up' '4.4W and up' '7.1 and up' '7.0 - 7.1.1'\n",
      " '8.0 and up' '5.0 - 8.0' '3.1 and up' '2.0.1 and up' '4.1 - 7.1.1' nan\n",
      " '5.0 - 6.0' '1.0 and up' '2.2 - 7.1.1' '5.0 - 7.1.1']\n",
      "\n"
     ]
    }
   ],
   "source": [
    "for i in df.columns:\n",
    "    print(i)               #column name\n",
    "    print(df[i].unique())  #unique values\n",
    "    print()"
   ]
  },
  {
   "cell_type": "code",
   "execution_count": 12,
   "id": "dfd16d60",
   "metadata": {},
   "outputs": [
    {
     "name": "stdout",
     "output_type": "stream",
     "text": [
      "Before dropping nan values (10841, 13)\n",
      "After dropping nan values (10829, 13)\n"
     ]
    }
   ],
   "source": [
    "print(\"Before dropping nan values\",df.shape)\n",
    "df.dropna(axis=0,inplace=True)       # Dropping the records which has nan values in it\n",
    "print(\"After dropping nan values\",df.shape )"
   ]
  },
  {
   "cell_type": "markdown",
   "id": "0ff8c5f5",
   "metadata": {},
   "source": [
    "###### Check for null values in the data. Get the number of null values for each column."
   ]
  },
  {
   "cell_type": "code",
   "execution_count": 13,
   "id": "b99f34d8",
   "metadata": {},
   "outputs": [
    {
     "data": {
      "text/plain": [
       "App               0\n",
       "Category          0\n",
       "Rating            0\n",
       "Reviews           0\n",
       "Size              0\n",
       "Installs          0\n",
       "Type              0\n",
       "Price             0\n",
       "Content Rating    0\n",
       "Genres            0\n",
       "Last Updated      0\n",
       "Current Ver       0\n",
       "Android Ver       0\n",
       "dtype: int64"
      ]
     },
     "execution_count": 13,
     "metadata": {},
     "output_type": "execute_result"
    }
   ],
   "source": [
    "df.isnull().sum()                             #Check the null values after dropping the nan values records"
   ]
  },
  {
   "cell_type": "code",
   "execution_count": 14,
   "id": "2fb69026",
   "metadata": {},
   "outputs": [
    {
     "data": {
      "text/plain": [
       "App               object\n",
       "Category          object\n",
       "Rating            object\n",
       "Reviews           object\n",
       "Size              object\n",
       "Installs          object\n",
       "Type              object\n",
       "Price             object\n",
       "Content Rating    object\n",
       "Genres            object\n",
       "Last Updated      object\n",
       "Current Ver       object\n",
       "Android Ver       object\n",
       "dtype: object"
      ]
     },
     "execution_count": 14,
     "metadata": {},
     "output_type": "execute_result"
    }
   ],
   "source": [
    "df.dtypes                                      #Check the datatype of each columns using 'dtypes'"
   ]
  },
  {
   "cell_type": "markdown",
   "id": "650ec2c0",
   "metadata": {},
   "source": [
    "##### Size column has sizes in Kb as well as Mb. To analyze, you’ll need to convert these to numeric."
   ]
  },
  {
   "cell_type": "code",
   "execution_count": 15,
   "id": "37089ccf",
   "metadata": {},
   "outputs": [
    {
     "name": "stdout",
     "output_type": "stream",
     "text": [
      "Length of the Totel DataFrame row Size: 10829\n",
      "M value counts: 8823\n",
      "K value counts: 312\n",
      "Varies with device counts: 1694\n",
      "Sum of (M),(k),and,(Varies with device) counts:  10829\n"
     ]
    }
   ],
   "source": [
    "newSize = []                                     # Create the  empty list name as 'newSize'\n",
    "a,b,c,d=0,0,0,0                                  # Check the 'M' , \"K'  and 'Varies with device' value count using a,b,c,d and assign 0\n",
    "for row in df.Size:\n",
    "    newrow = row[:-1]                         # Get the last value of each row and store into 'last_val' variables. \n",
    "    last_val=row[-1]\n",
    "    if((newrow+'e')=='Varies with device'):  # if the last val is equal to  'Varies with device' then replace nan value using'np.nan' then append the newsize list.                                             \n",
    "        a+=1\n",
    "        newrow=np.nan\n",
    "        newSize.append(newrow)\n",
    "    elif last_val=='M':               #else if the last value is equal to 'M' then 'newrow'(contains numberic values) is Multiply the value by 1,000,then finally append the newsize list.\n",
    "                                                            \n",
    "        b+=1\n",
    "        newrow=float(newrow)*1000\n",
    "        newSize.append(float(newrow))\n",
    "    elif(last_val=='k'):               # suppose the last val is equal to 'K' then append the newSize list.\n",
    "        c+=1\n",
    "        newSize.append(float(newrow))\n",
    "    else:\n",
    "        newSize.append(0)\n",
    "        \n",
    "print(f'Length of the Totel DataFrame row Size: {len(df.Size)}\\nM value counts: {b}\\nK value counts: {c}\\nVaries with device counts: {a}\\nSum of (M),(k),and,(Varies with device) counts:  {a+b+c+d}')\n",
    "df.Size = newSize        # Assign the dfSize values to newSize list values\n",
    "\n",
    "df['Size'].fillna(int(df['Size'].mode()),inplace=True)    #Now df.Size having nan values,using fillna function replace the nan value to mod value     \n",
    "        \n",
    "    "
   ]
  },
  {
   "cell_type": "markdown",
   "id": "db10f8e0",
   "metadata": {},
   "source": [
    "###### Extract the numeric value from the column"
   ]
  },
  {
   "cell_type": "code",
   "execution_count": 16,
   "id": "ec69823f",
   "metadata": {},
   "outputs": [
    {
     "data": {
      "text/plain": [
       "App                object\n",
       "Category           object\n",
       "Rating             object\n",
       "Reviews            object\n",
       "Size              float64\n",
       "Installs           object\n",
       "Type               object\n",
       "Price              object\n",
       "Content Rating     object\n",
       "Genres             object\n",
       "Last Updated       object\n",
       "Current Ver        object\n",
       "Android Ver        object\n",
       "dtype: object"
      ]
     },
     "execution_count": 16,
     "metadata": {},
     "output_type": "execute_result"
    }
   ],
   "source": [
    "df.dtypes                 #Check the dtype of Size Columns"
   ]
  },
  {
   "cell_type": "code",
   "execution_count": 17,
   "id": "76206b43",
   "metadata": {},
   "outputs": [
    {
     "name": "stdout",
     "output_type": "stream",
     "text": [
      "Index(['App', 'Category', 'Rating', 'Reviews', 'Size', 'Installs', 'Type',\n",
      "       'Price', 'Content Rating', 'Genres', 'Last Updated', 'Current Ver',\n",
      "       'Android Ver'],\n",
      "      dtype='object')\n",
      "['Rating', 'Reviews', 'Installs', 'Price']\n"
     ]
    }
   ],
   "source": [
    "print(df.columns)\n",
    "obj_float=list(df.iloc[:,[2,3,5,7]].columns)\n",
    "print(obj_float)#Extract the numeric value from the column\n",
    "for i in range(len(obj_float)):\n",
    "    df[obj_float[i]]=(df[obj_float[i]].astype(float))"
   ]
  },
  {
   "cell_type": "code",
   "execution_count": 18,
   "id": "f5f6cff1",
   "metadata": {},
   "outputs": [
    {
     "data": {
      "text/plain": [
       "App                object\n",
       "Category           object\n",
       "Rating            float64\n",
       "Reviews           float64\n",
       "Size              float64\n",
       "Installs          float64\n",
       "Type               object\n",
       "Price             float64\n",
       "Content Rating     object\n",
       "Genres             object\n",
       "Last Updated       object\n",
       "Current Ver        object\n",
       "Android Ver        object\n",
       "dtype: object"
      ]
     },
     "execution_count": 18,
     "metadata": {},
     "output_type": "execute_result"
    }
   ],
   "source": [
    "df.dtypes"
   ]
  },
  {
   "cell_type": "code",
   "execution_count": 19,
   "id": "eb8cf475",
   "metadata": {},
   "outputs": [
    {
     "data": {
      "text/html": [
       "<div>\n",
       "<style scoped>\n",
       "    .dataframe tbody tr th:only-of-type {\n",
       "        vertical-align: middle;\n",
       "    }\n",
       "\n",
       "    .dataframe tbody tr th {\n",
       "        vertical-align: top;\n",
       "    }\n",
       "\n",
       "    .dataframe thead th {\n",
       "        text-align: right;\n",
       "    }\n",
       "</style>\n",
       "<table border=\"1\" class=\"dataframe\">\n",
       "  <thead>\n",
       "    <tr style=\"text-align: right;\">\n",
       "      <th></th>\n",
       "      <th>App</th>\n",
       "      <th>Category</th>\n",
       "      <th>Rating</th>\n",
       "      <th>Reviews</th>\n",
       "      <th>Size</th>\n",
       "      <th>Installs</th>\n",
       "      <th>Type</th>\n",
       "      <th>Price</th>\n",
       "      <th>Content Rating</th>\n",
       "      <th>Genres</th>\n",
       "      <th>Last Updated</th>\n",
       "      <th>Current Ver</th>\n",
       "      <th>Android Ver</th>\n",
       "    </tr>\n",
       "  </thead>\n",
       "  <tbody>\n",
       "    <tr>\n",
       "      <th>0</th>\n",
       "      <td>Photo Editor  Candy Camera  Grid  ScrapBook</td>\n",
       "      <td>ARTANDDESIGN</td>\n",
       "      <td>4.1</td>\n",
       "      <td>159.0</td>\n",
       "      <td>19000.0</td>\n",
       "      <td>10000.0</td>\n",
       "      <td>Free</td>\n",
       "      <td>0.0</td>\n",
       "      <td>Everyone</td>\n",
       "      <td>Art  Design</td>\n",
       "      <td>07-Jan-18</td>\n",
       "      <td>1.0.0</td>\n",
       "      <td>4.0.3 and up</td>\n",
       "    </tr>\n",
       "    <tr>\n",
       "      <th>1</th>\n",
       "      <td>Coloring book moana</td>\n",
       "      <td>ARTANDDESIGN</td>\n",
       "      <td>3.9</td>\n",
       "      <td>967.0</td>\n",
       "      <td>14000.0</td>\n",
       "      <td>500000.0</td>\n",
       "      <td>Free</td>\n",
       "      <td>0.0</td>\n",
       "      <td>Everyone</td>\n",
       "      <td>Art  DesignPretend Play</td>\n",
       "      <td>15-Jan-18</td>\n",
       "      <td>2.0.0</td>\n",
       "      <td>4.0.3 and up</td>\n",
       "    </tr>\n",
       "    <tr>\n",
       "      <th>2</th>\n",
       "      <td>U Launcher Lite – FREE Live Cool Themes Hide Apps</td>\n",
       "      <td>ARTANDDESIGN</td>\n",
       "      <td>4.7</td>\n",
       "      <td>87510.0</td>\n",
       "      <td>8700.0</td>\n",
       "      <td>5000000.0</td>\n",
       "      <td>Free</td>\n",
       "      <td>0.0</td>\n",
       "      <td>Everyone</td>\n",
       "      <td>Art  Design</td>\n",
       "      <td>01-Aug-18</td>\n",
       "      <td>1.2.4</td>\n",
       "      <td>4.0.3 and up</td>\n",
       "    </tr>\n",
       "    <tr>\n",
       "      <th>3</th>\n",
       "      <td>Sketch - Draw  Paint</td>\n",
       "      <td>ARTANDDESIGN</td>\n",
       "      <td>4.5</td>\n",
       "      <td>215644.0</td>\n",
       "      <td>25000.0</td>\n",
       "      <td>50000000.0</td>\n",
       "      <td>Free</td>\n",
       "      <td>0.0</td>\n",
       "      <td>Teen</td>\n",
       "      <td>Art  Design</td>\n",
       "      <td>08-Jun-18</td>\n",
       "      <td>Varies with device</td>\n",
       "      <td>4.2 and up</td>\n",
       "    </tr>\n",
       "    <tr>\n",
       "      <th>4</th>\n",
       "      <td>Pixel Draw - Number Art Coloring Book</td>\n",
       "      <td>ARTANDDESIGN</td>\n",
       "      <td>4.3</td>\n",
       "      <td>967.0</td>\n",
       "      <td>2800.0</td>\n",
       "      <td>100000.0</td>\n",
       "      <td>Free</td>\n",
       "      <td>0.0</td>\n",
       "      <td>Everyone</td>\n",
       "      <td>Art  DesignCreativity</td>\n",
       "      <td>20-Jun-18</td>\n",
       "      <td>1.1</td>\n",
       "      <td>4.4 and up</td>\n",
       "    </tr>\n",
       "  </tbody>\n",
       "</table>\n",
       "</div>"
      ],
      "text/plain": [
       "                                                 App      Category  Rating  \\\n",
       "0        Photo Editor  Candy Camera  Grid  ScrapBook  ARTANDDESIGN     4.1   \n",
       "1                                Coloring book moana  ARTANDDESIGN     3.9   \n",
       "2  U Launcher Lite – FREE Live Cool Themes Hide Apps  ARTANDDESIGN     4.7   \n",
       "3                               Sketch - Draw  Paint  ARTANDDESIGN     4.5   \n",
       "4              Pixel Draw - Number Art Coloring Book  ARTANDDESIGN     4.3   \n",
       "\n",
       "    Reviews     Size    Installs  Type  Price Content Rating  \\\n",
       "0     159.0  19000.0     10000.0  Free    0.0       Everyone   \n",
       "1     967.0  14000.0    500000.0  Free    0.0       Everyone   \n",
       "2   87510.0   8700.0   5000000.0  Free    0.0       Everyone   \n",
       "3  215644.0  25000.0  50000000.0  Free    0.0           Teen   \n",
       "4     967.0   2800.0    100000.0  Free    0.0       Everyone   \n",
       "\n",
       "                    Genres Last Updated         Current Ver   Android Ver  \n",
       "0              Art  Design    07-Jan-18               1.0.0  4.0.3 and up  \n",
       "1  Art  DesignPretend Play    15-Jan-18               2.0.0  4.0.3 and up  \n",
       "2              Art  Design    01-Aug-18               1.2.4  4.0.3 and up  \n",
       "3              Art  Design    08-Jun-18  Varies with device    4.2 and up  \n",
       "4    Art  DesignCreativity    20-Jun-18                 1.1    4.4 and up  "
      ]
     },
     "execution_count": 19,
     "metadata": {},
     "output_type": "execute_result"
    }
   ],
   "source": [
    "df.head()"
   ]
  },
  {
   "cell_type": "code",
   "execution_count": 20,
   "id": "84a30c8e",
   "metadata": {},
   "outputs": [
    {
     "name": "stdout",
     "output_type": "stream",
     "text": [
      "App\n",
      "['Photo Editor  Candy Camera  Grid  ScrapBook' 'Coloring book moana'\n",
      " 'U Launcher Lite – FREE Live Cool Themes Hide Apps' ...\n",
      " 'Parkinson Exercices FR' 'The SCP Foundation DB fr nn5n'\n",
      " 'iHoroscope - 2018 Daily Horoscope  Astrology']\n",
      "\n",
      "Category\n",
      "['ARTANDDESIGN' 'AUTOANDVEHICLES' 'BEAUTY' 'BOOKSANDREFERENCE' 'BUSINESS'\n",
      " 'COMICS' 'COMMUNICATION' 'DATING' 'EDUCATION' 'ENTERTAINMENT' 'EVENTS'\n",
      " 'FINANCE' 'FOODANDDRINK' 'HEALTHANDFITNESS' 'HOUSEANDHOME'\n",
      " 'LIBRARIESANDDEMO' 'LIFESTYLE' 'GAME' 'FAMILY' 'MEDICAL' 'SOCIAL'\n",
      " 'SHOPPING' 'PHOTOGRAPHY' 'SPORTS' 'TRAVELANDLOCAL' 'TOOLS'\n",
      " 'PERSONALIZATION' 'PRODUCTIVITY' 'PARENTING' 'WEATHER' 'VIDEOPLAYERS'\n",
      " 'NEWSANDMAGAZINES' 'MAPSANDNAVIGATION']\n",
      "\n",
      "Rating\n",
      "[4.1e+00 3.9e+00 4.7e+00 4.5e+00 4.3e+00 4.4e+00 3.8e+00 6.0e+08 4.6e+00\n",
      " 4.0e+00 1.2e+00 4.8e+00 4.2e+00 4.9e+00 3.6e+00 3.7e+00 3.2e+00 3.3e+00\n",
      " 3.4e+00 3.5e+00 3.1e+00 5.0e+00 2.6e+00 3.0e+00 1.9e+00 2.5e+00 2.8e+00\n",
      " 2.7e+00 1.0e+00 2.9e+00 2.3e+00 2.2e+00 1.7e+00 2.0e+00 1.8e+00 2.4e+00\n",
      " 1.6e+00 2.1e+00 1.4e+00 1.5e+00]\n",
      "\n",
      "Reviews\n",
      "[1.59000e+02 9.67000e+02 8.75100e+04 ... 6.03000e+02 1.19500e+03\n",
      " 3.98307e+05]\n",
      "\n",
      "Size\n",
      "[1.90e+04 1.40e+04 8.70e+03 2.50e+04 2.80e+03 5.60e+03 2.90e+04 3.30e+04\n",
      " 3.10e+03 2.80e+04 1.20e+04 2.00e+04 2.10e+04 3.70e+04 5.50e+03 1.70e+04\n",
      " 3.90e+04 3.10e+04 4.20e+03 7.00e+03 2.30e+04 6.00e+03 6.10e+03 4.60e+03\n",
      " 9.20e+03 5.20e+03 1.10e+04 2.40e+04 9.40e+03 1.50e+04 1.00e+04 1.20e+03\n",
      " 2.60e+04 8.00e+03 7.90e+03 5.60e+04 5.70e+04 3.50e+04 5.40e+04 2.01e+02\n",
      " 3.60e+03 5.70e+03 8.60e+03 2.40e+03 2.70e+04 2.70e+03 2.50e+03 1.60e+04\n",
      " 3.40e+03 8.90e+03 3.90e+03 2.90e+03 3.80e+04 3.20e+04 5.40e+03 1.80e+04\n",
      " 1.10e+03 2.20e+03 4.50e+03 9.80e+03 5.20e+04 9.00e+03 6.70e+03 3.00e+04\n",
      " 2.60e+03 7.10e+03 3.70e+03 2.20e+04 7.40e+03 6.40e+03 3.20e+03 8.20e+03\n",
      " 9.90e+03 4.90e+03 9.50e+03 5.00e+03 5.90e+03 1.30e+04 7.30e+04 6.80e+03\n",
      " 3.50e+03 4.00e+03 2.30e+03 7.20e+03 2.10e+03 4.20e+04 7.30e+03 9.10e+03\n",
      " 5.50e+04 2.30e+01 6.50e+03 1.50e+03 7.50e+03 5.10e+04 4.10e+04 4.80e+04\n",
      " 8.50e+03 4.60e+04 8.30e+03 4.30e+03 4.70e+03 3.30e+03 4.00e+04 7.80e+03\n",
      " 8.80e+03 6.60e+03 5.10e+03 6.10e+04 6.60e+04 7.90e+01 8.40e+03 1.18e+02\n",
      " 4.40e+04 6.95e+02 1.60e+03 6.20e+03 1.80e+01 5.30e+04 1.40e+03 3.00e+03\n",
      " 5.80e+03 3.80e+03 9.60e+03 4.50e+04 6.30e+04 4.90e+04 7.70e+04 4.40e+03\n",
      " 4.80e+03 7.00e+04 6.90e+03 9.30e+03 8.10e+03 3.60e+04 8.40e+04 9.70e+04\n",
      " 2.00e+03 1.90e+03 1.80e+03 5.30e+03 4.70e+04 5.56e+02 5.26e+02 7.60e+04\n",
      " 7.60e+03 5.90e+04 9.70e+03 7.80e+04 7.20e+04 4.30e+04 7.70e+03 6.30e+03\n",
      " 3.34e+02 3.40e+04 9.30e+04 6.50e+04 7.90e+04 1.00e+05 5.80e+04 5.00e+04\n",
      " 6.80e+04 6.40e+04 6.70e+04 6.00e+04 9.40e+04 2.32e+02 9.90e+04 6.24e+02\n",
      " 9.50e+04 8.50e+00 4.10e+01 2.92e+02 8.00e+04 1.70e+03 7.40e+04 6.20e+04\n",
      " 6.90e+04 7.50e+04 9.80e+04 8.50e+04 8.20e+04 9.60e+04 8.70e+04 7.10e+04\n",
      " 8.60e+04 9.10e+04 8.10e+04 9.20e+04 8.30e+04 8.80e+04 7.04e+02 8.62e+02\n",
      " 8.99e+02 3.78e+02 2.66e+02 3.75e+02 1.30e+03 9.75e+02 9.80e+02 4.10e+03\n",
      " 8.90e+04 6.96e+02 5.44e+02 5.25e+02 9.20e+02 7.79e+02 8.53e+02 7.20e+02\n",
      " 7.13e+02 7.72e+02 3.18e+02 5.80e+01 2.41e+02 1.96e+02 8.57e+02 5.10e+01\n",
      " 9.53e+02 8.65e+02 2.51e+02 9.30e+02 5.40e+02 3.13e+02 7.46e+02 2.03e+02\n",
      " 2.60e+01 3.14e+02 2.39e+02 3.71e+02 2.20e+02 7.30e+02 7.56e+02 9.10e+01\n",
      " 2.93e+02 1.70e+01 7.40e+01 1.40e+01 3.17e+02 7.80e+01 9.24e+02 9.02e+02\n",
      " 8.18e+02 8.10e+01 9.39e+02 1.69e+02 4.50e+01 4.75e+02 9.65e+02 9.00e+04\n",
      " 5.45e+02 6.10e+01 2.83e+02 6.55e+02 7.14e+02 9.30e+01 8.72e+02 1.21e+02\n",
      " 3.22e+02 1.00e+03 9.76e+02 1.72e+02 2.38e+02 5.49e+02 2.06e+02 9.54e+02\n",
      " 4.44e+02 7.17e+02 2.10e+02 6.09e+02 3.08e+02 7.05e+02 3.06e+02 9.04e+02\n",
      " 4.73e+02 1.75e+02 3.50e+02 3.83e+02 4.54e+02 4.21e+02 7.00e+01 8.12e+02\n",
      " 4.42e+02 8.42e+02 4.17e+02 4.12e+02 4.59e+02 4.78e+02 3.35e+02 7.82e+02\n",
      " 7.21e+02 4.30e+02 4.29e+02 1.92e+02 2.00e+02 4.60e+02 7.28e+02 4.96e+02\n",
      " 8.16e+02 4.14e+02 5.06e+02 8.87e+02 6.13e+02 2.43e+02 5.69e+02 7.78e+02\n",
      " 6.83e+02 5.92e+02 3.19e+02 1.86e+02 8.40e+02 6.47e+02 1.91e+02 3.73e+02\n",
      " 4.37e+02 5.98e+02 7.16e+02 5.85e+02 9.82e+02 2.19e+02 5.50e+01 9.48e+02\n",
      " 3.23e+02 6.91e+02 5.11e+02 9.51e+02 9.63e+02 2.50e+01 5.54e+02 3.51e+02\n",
      " 2.70e+01 8.20e+01 2.08e+02 9.13e+02 5.14e+02 5.51e+02 2.90e+01 1.03e+02\n",
      " 8.98e+02 7.43e+02 1.16e+02 1.53e+02 2.09e+02 3.53e+02 4.99e+02 1.73e+02\n",
      " 5.97e+02 8.09e+02 1.22e+02 4.11e+02 4.00e+02 8.01e+02 7.87e+02 5.00e+01\n",
      " 6.43e+02 9.86e+02 9.70e+01 5.16e+02 8.37e+02 7.80e+02 9.61e+02 2.69e+02\n",
      " 2.00e+01 4.98e+02 6.00e+02 7.49e+02 6.42e+02 8.81e+02 7.20e+01 6.56e+02\n",
      " 6.01e+02 2.21e+02 2.28e+02 1.08e+02 9.40e+02 1.76e+02 3.30e+01 6.63e+02\n",
      " 3.40e+01 9.42e+02 2.59e+02 1.64e+02 4.58e+02 2.45e+02 6.29e+02 2.80e+01\n",
      " 2.88e+02 7.75e+02 7.85e+02 6.36e+02 9.16e+02 9.94e+02 3.09e+02 4.85e+02\n",
      " 9.14e+02 9.03e+02 6.08e+02 5.00e+02 5.40e+01 5.62e+02 8.47e+02 9.57e+02\n",
      " 6.88e+02 8.11e+02 2.70e+02 4.80e+01 3.29e+02 5.23e+02 9.21e+02 8.74e+02\n",
      " 9.81e+02 7.84e+02 2.80e+02 2.40e+01 5.18e+02 7.54e+02 8.92e+02 1.54e+02\n",
      " 8.60e+02 3.64e+02 3.87e+02 6.26e+02 1.61e+02 8.79e+02 3.90e+01 9.70e+02\n",
      " 1.70e+02 1.41e+02 1.60e+02 1.44e+02 1.43e+02 1.90e+02 3.76e+02 1.93e+02\n",
      " 2.46e+02 7.30e+01 9.92e+02 2.53e+02 4.20e+02 4.04e+02 4.70e+02 2.26e+02\n",
      " 2.40e+02 8.90e+01 2.34e+02 2.57e+02 8.61e+02 4.67e+02 1.57e+02 4.40e+01\n",
      " 6.76e+02 6.70e+01 5.52e+02 8.85e+02 1.02e+03 5.82e+02 6.19e+02]\n",
      "\n",
      "Installs\n",
      "[1.e+04 5.e+05 5.e+06 5.e+07 1.e+05 5.e+04 1.e+06 1.e+07 5.e+03 1.e+08\n",
      " 1.e+09 1.e+03 5.e+08 5.e+01 1.e+02 5.e+02 1.e+01 1.e+00 5.e+00 0.e+00]\n",
      "\n",
      "Type\n",
      "['Free' 'Paid']\n",
      "\n",
      "Price\n",
      "[  0.     4.99   3.99   6.99   1.49   2.99   7.99   5.99   3.49   1.99\n",
      "   9.99   7.49   0.99   9.     5.49  10.    24.99  11.99  79.99  16.99\n",
      "  14.99   1.    29.99  12.99   2.49  10.99   1.5   19.99  15.99  33.99\n",
      "  74.99  39.99   3.95   4.49   1.7    8.99   2.     3.88  25.99 399.99\n",
      "  17.99 400.     3.02   1.76   4.84   4.77   1.61   2.5    1.59   6.49\n",
      "   1.29   5.    13.99 299.99 379.99  37.99  18.99 389.99  19.9    8.49\n",
      "   1.75  14.     4.85  46.99 109.99 154.99   3.08   2.59   4.8    1.96\n",
      "  19.4    3.9    4.59  15.46   3.04   4.29   2.6    3.28   4.6   28.99\n",
      "   2.95   2.9    1.97 200.    89.99   2.56  30.99   3.61 394.99   1.26\n",
      "   1.2    1.04]\n",
      "\n",
      "Content Rating\n",
      "['Everyone' 'Teen' 'Everyone 10' 'Mature 17' 'Adults only 18' 'Unrated']\n",
      "\n",
      "Genres\n",
      "['Art  Design' 'Art  DesignPretend Play' 'Art  DesignCreativity'\n",
      " 'Art  DesignAction  Adventure' 'Auto  Vehicles' 'Beauty'\n",
      " 'Books  Reference' 'Business' 'Comics' 'ComicsCreativity' 'Communication'\n",
      " 'Dating' 'EducationEducation' 'Education' 'EducationCreativity'\n",
      " 'EducationMusic  Video' 'EducationAction  Adventure'\n",
      " 'EducationPretend Play' 'EducationBrain Games' 'Entertainment'\n",
      " 'EntertainmentMusic  Video' 'EntertainmentBrain Games'\n",
      " 'EntertainmentCreativity' 'Events' 'Finance' 'Food  Drink'\n",
      " 'Health  Fitness' 'House  Home' 'Libraries  Demo' 'Lifestyle'\n",
      " 'LifestylePretend Play' 'AdventureAction  Adventure' 'Arcade' 'Casual'\n",
      " 'Card' 'CasualPretend Play' 'Action' 'Strategy' 'Puzzle' 'Sports' 'Music'\n",
      " 'Word' 'Racing' 'CasualCreativity' 'CasualAction  Adventure' 'Simulation'\n",
      " 'Adventure' 'Board' 'Trivia' 'Role Playing' 'SimulationEducation'\n",
      " 'ActionAction  Adventure' 'CasualBrain Games'\n",
      " 'SimulationAction  Adventure' 'EducationalCreativity' 'PuzzleBrain Games'\n",
      " 'EducationalEducation' 'CardBrain Games' 'EducationalBrain Games'\n",
      " 'EducationalPretend Play' 'EntertainmentEducation' 'CasualEducation'\n",
      " 'MusicMusic  Video' 'RacingAction  Adventure' 'ArcadePretend Play'\n",
      " 'Role PlayingAction  Adventure' 'SimulationPretend Play'\n",
      " 'PuzzleCreativity' 'SportsAction  Adventure'\n",
      " 'EducationalAction  Adventure' 'ArcadeAction  Adventure'\n",
      " 'EntertainmentAction  Adventure' 'PuzzleAction  Adventure'\n",
      " 'StrategyAction  Adventure' 'Music  AudioMusic  Video'\n",
      " 'Health  FitnessEducation' 'AdventureEducation' 'BoardBrain Games'\n",
      " 'BoardAction  Adventure' 'BoardPretend Play' 'CasualMusic  Video'\n",
      " 'Role PlayingPretend Play' 'EntertainmentPretend Play'\n",
      " 'Video Players  EditorsCreativity' 'CardAction  Adventure' 'Medical'\n",
      " 'Social' 'Shopping' 'Photography' 'Travel  Local'\n",
      " 'Travel  LocalAction  Adventure' 'Tools' 'ToolsEducation'\n",
      " 'Personalization' 'Productivity' 'Parenting' 'ParentingMusic  Video'\n",
      " 'ParentingEducation' 'ParentingBrain Games' 'Weather'\n",
      " 'Video Players  Editors' 'Video Players  EditorsMusic  Video'\n",
      " 'News  Magazines' 'Maps  Navigation' 'Health  FitnessAction  Adventure'\n",
      " 'Educational' 'Casino' 'AdventureBrain Games' 'TriviaEducation'\n",
      " 'LifestyleEducation' 'Books  ReferenceCreativity'\n",
      " 'Books  ReferenceEducation' 'PuzzleEducation' 'Role PlayingEducation'\n",
      " 'Role PlayingBrain Games' 'StrategyEducation' 'RacingPretend Play'\n",
      " 'CommunicationCreativity' 'StrategyCreativity']\n",
      "\n",
      "Last Updated\n",
      "['07-Jan-18' '15-Jan-18' '01-Aug-18' ... '20-Jan-14' '16-Feb-14'\n",
      " '23-Mar-14']\n",
      "\n",
      "Current Ver\n",
      "['1.0.0' '2.0.0' '1.2.4' ... '1.0.612928' '0.3.4' '2.0.148.0']\n",
      "\n",
      "Android Ver\n",
      "['4.0.3 and up' '4.2 and up' '4.4 and up' '2.3 and up' '3.0 and up'\n",
      " '4.1 and up' '4.0 and up' '2.3.3 and up' 'Varies with device'\n",
      " '2.2 and up' '5.0 and up' '6.0 and up' '1.6 and up' '1.5 and up'\n",
      " '2.1 and up' '7.0 and up' '5.1 and up' '4.3 and up' '4.0.3 - 7.1.1'\n",
      " '2.0 and up' '3.2 and up' '4.4W and up' '7.1 and up' '7.0 - 7.1.1'\n",
      " '8.0 and up' '5.0 - 8.0' '3.1 and up' '2.0.1 and up' '4.1 - 7.1.1'\n",
      " '5.0 - 6.0' '1.0 and up' '2.2 - 7.1.1' '5.0 - 7.1.1']\n",
      "\n"
     ]
    }
   ],
   "source": [
    "for i in df.columns:\n",
    "    print(i)               #column name\n",
    "    print(df[i].unique())  #unique values\n",
    "    print()"
   ]
  },
  {
   "cell_type": "markdown",
   "id": "c4290793",
   "metadata": {},
   "source": [
    "## SANITY CHECKS:\n",
    "\n",
    "###### Average rating should be between 1 and 5 as only these values are allowed on the play store. Drop the rows that have a value outside this range."
   ]
  },
  {
   "cell_type": "code",
   "execution_count": 21,
   "id": "5e89edd7",
   "metadata": {},
   "outputs": [],
   "source": [
    "df=df[(df['Rating']>=1) & (df['Rating']<=5)]  "
   ]
  },
  {
   "cell_type": "code",
   "execution_count": 22,
   "id": "c199bdb8",
   "metadata": {},
   "outputs": [
    {
     "data": {
      "text/plain": [
       "array([4.1, 3.9, 4.7, 4.5, 4.3, 4.4, 3.8, 4.6, 4. , 1.2, 4.8, 4.2, 4.9,\n",
       "       3.6, 3.7, 3.2, 3.3, 3.4, 3.5, 3.1, 5. , 2.6, 3. , 1.9, 2.5, 2.8,\n",
       "       2.7, 1. , 2.9, 2.3, 2.2, 1.7, 2. , 1.8, 2.4, 1.6, 2.1, 1.4, 1.5])"
      ]
     },
     "execution_count": 22,
     "metadata": {},
     "output_type": "execute_result"
    }
   ],
   "source": [
    "df.Rating.unique()"
   ]
  },
  {
   "cell_type": "code",
   "execution_count": 23,
   "id": "fc889524",
   "metadata": {},
   "outputs": [
    {
     "data": {
      "text/plain": [
       "(10828, 13)"
      ]
     },
     "execution_count": 23,
     "metadata": {},
     "output_type": "execute_result"
    }
   ],
   "source": [
    "df.shape"
   ]
  },
  {
   "cell_type": "markdown",
   "id": "16051665",
   "metadata": {},
   "source": [
    "###### Reviews should not be more than installs as only those who installed can review the app. If there are any such records, drop them."
   ]
  },
  {
   "cell_type": "code",
   "execution_count": 24,
   "id": "ca55a486",
   "metadata": {},
   "outputs": [],
   "source": [
    "df=df[df.Reviews<df.Installs]           "
   ]
  },
  {
   "cell_type": "markdown",
   "id": "32008cee",
   "metadata": {},
   "source": [
    "###### \"For free apps (type = “Free”), the price should not be >0. Drop any such rows."
   ]
  },
  {
   "cell_type": "code",
   "execution_count": 25,
   "id": "2afde6a9",
   "metadata": {},
   "outputs": [
    {
     "name": "stdout",
     "output_type": "stream",
     "text": [
      "Free    10012\n",
      "Paid      780\n",
      "Name: Type, dtype: int64\n"
     ]
    },
    {
     "data": {
      "image/png": "[encoded data removed]",
      "text/plain": [
       "<Figure size 720x540 with 1 Axes>"
      ]
     },
     "metadata": {},
     "output_type": "display_data"
    }
   ],
   "source": [
    "## PLOT THE PIE CHART USING 'TYPE' COLUMNS,WHICH ONE IS MOST DEMENDED.\n",
    "plt.figure(figsize=(10,7.5))\n",
    "plt.title(\"PIE CHART FOR TYPE COLUMNS\")\n",
    "size = df[\"Type\"].value_counts()\n",
    "print(size)\n",
    "labels = df[\"Type\"].unique()\n",
    "plt.pie(size, labels=labels, autopct='%.2f%%')\n",
    "plt.show()"
   ]
  },
  {
   "cell_type": "code",
   "execution_count": 26,
   "id": "f25f5483",
   "metadata": {},
   "outputs": [
    {
     "name": "stdout",
     "output_type": "stream",
     "text": [
      "Based on the above pie chart Free apps are most buying apps compare then paid apps\n"
     ]
    }
   ],
   "source": [
    "print(\"Based on the above pie chart Free apps are most buying apps compare then paid apps\")"
   ]
  },
  {
   "cell_type": "code",
   "execution_count": 27,
   "id": "a99e3be3",
   "metadata": {},
   "outputs": [
    {
     "name": "stdout",
     "output_type": "stream",
     "text": [
      "(10792, 13)\n"
     ]
    }
   ],
   "source": [
    "\n",
    "df=df[(((df[\"Type\"]=='Free')& (df['Price']<=0.0))|(df[\"Type\"]=='Paid'))]    \n",
    "print(df.shape)"
   ]
  },
  {
   "cell_type": "markdown",
   "id": "80e42800",
   "metadata": {},
   "source": [
    "\n",
    "##  VISUALIZATION"
   ]
  },
  {
   "cell_type": "markdown",
   "id": "9ce9ff11",
   "metadata": {},
   "source": [
    "#### BOXPLOT FOR PRICE"
   ]
  },
  {
   "cell_type": "code",
   "execution_count": 28,
   "id": "4c1db4d7",
   "metadata": {},
   "outputs": [
    {
     "data": {
      "text/plain": [
       "[Text(0.5, 1.0, 'Boxplot for Price'),\n",
       " Text(0, 0.5, 'Price'),\n",
       " Text(0.5, 0, 'Values')]"
      ]
     },
     "execution_count": 28,
     "metadata": {},
     "output_type": "execute_result"
    },
    {
     "data": {
      "image/png": "[encoded data removed]",
      "text/plain": [
       "<Figure size 432x288 with 1 Axes>"
      ]
     },
     "metadata": {
      "needs_background": "light"
     },
     "output_type": "display_data"
    }
   ],
   "source": [
    "\n",
    "sns.boxplot(x=df['Price'],data=df).set(title=\"Boxplot for Price\",ylabel='Price',xlabel='Values')"
   ]
  },
  {
   "cell_type": "markdown",
   "id": "d6edab60",
   "metadata": {},
   "source": [
    "#### BOXPLOT FOR REVIEWS\n"
   ]
  },
  {
   "cell_type": "code",
   "execution_count": 29,
   "id": "e7443ee9",
   "metadata": {},
   "outputs": [
    {
     "data": {
      "text/plain": [
       "[Text(0.5, 1.0, 'Boxplot for Reviews'),\n",
       " Text(0.5, 0, 'values'),\n",
       " Text(0, 0.5, 'Reviews')]"
      ]
     },
     "execution_count": 29,
     "metadata": {},
     "output_type": "execute_result"
    },
    {
     "data": {
      "image/png": "[encoded data removed]",
      "text/plain": [
       "<Figure size 432x288 with 1 Axes>"
      ]
     },
     "metadata": {
      "needs_background": "light"
     },
     "output_type": "display_data"
    }
   ],
   "source": [
    "sns.boxplot(x=df.Reviews).set(title='Boxplot for Reviews',xlabel='values',ylabel='Reviews')"
   ]
  },
  {
   "cell_type": "markdown",
   "id": "4aa2a42d",
   "metadata": {},
   "source": [
    "#### BOXPLOT FOR RATING"
   ]
  },
  {
   "cell_type": "code",
   "execution_count": 30,
   "id": "2046655d",
   "metadata": {},
   "outputs": [
    {
     "data": {
      "text/plain": [
       "[Text(0.5, 1.0, 'Box plot for Rating'),\n",
       " Text(0.5, 0, 'values'),\n",
       " Text(0, 0.5, 'Rating')]"
      ]
     },
     "execution_count": 30,
     "metadata": {},
     "output_type": "execute_result"
    },
    {
     "data": {
      "image/png": "[encoded data removed]",
      "text/plain": [
       "<Figure size 432x288 with 1 Axes>"
      ]
     },
     "metadata": {
      "needs_background": "light"
     },
     "output_type": "display_data"
    }
   ],
   "source": [
    "sns.boxplot(x=df.Rating).set(title=\"Box plot for Rating\",xlabel='values',ylabel='Rating')"
   ]
  },
  {
   "cell_type": "markdown",
   "id": "8ca87f47",
   "metadata": {},
   "source": [
    "#### HISTROGRAM FOR RATING"
   ]
  },
  {
   "cell_type": "code",
   "execution_count": 31,
   "id": "4db4ae6c",
   "metadata": {},
   "outputs": [
    {
     "data": {
      "text/plain": [
       "[Text(0.5, 1.0, 'Histogram_Plot for Rating')]"
      ]
     },
     "execution_count": 31,
     "metadata": {},
     "output_type": "execute_result"
    },
    {
     "data": {
      "image/png": "[encoded data removed]",
      "text/plain": [
       "<Figure size 432x288 with 1 Axes>"
      ]
     },
     "metadata": {
      "needs_background": "light"
     },
     "output_type": "display_data"
    }
   ],
   "source": [
    "sns.histplot(x=df.Rating).set(title='Histogram_Plot for Rating')"
   ]
  },
  {
   "cell_type": "markdown",
   "id": "4d5df498",
   "metadata": {},
   "source": [
    "#### HISTOGRAM FOR SIZE"
   ]
  },
  {
   "cell_type": "code",
   "execution_count": 32,
   "id": "7e0e9c21",
   "metadata": {},
   "outputs": [
    {
     "data": {
      "text/plain": [
       "[Text(0.5, 1.0, 'Histogram for Size')]"
      ]
     },
     "execution_count": 32,
     "metadata": {},
     "output_type": "execute_result"
    },
    {
     "data": {
      "image/png": "[encoded data removed]",
      "text/plain": [
       "<Figure size 432x288 with 1 Axes>"
      ]
     },
     "metadata": {
      "needs_background": "light"
     },
     "output_type": "display_data"
    }
   ],
   "source": [
    "sns.histplot(x=df.Size).set(title='Histogram for Size')"
   ]
  },
  {
   "cell_type": "markdown",
   "id": "cdad61b5",
   "metadata": {},
   "source": [
    "#### BOXPLOT FOR SIZE"
   ]
  },
  {
   "cell_type": "code",
   "execution_count": 33,
   "id": "a119f5d7",
   "metadata": {},
   "outputs": [
    {
     "data": {
      "text/plain": [
       "[Text(0.5, 1.0, ' BOXPLOT FOR SIZE'),\n",
       " Text(0, 0.5, 'Size'),\n",
       " Text(0.5, 0, 'count')]"
      ]
     },
     "execution_count": 33,
     "metadata": {},
     "output_type": "execute_result"
    },
    {
     "data": {
      "image/png": "[encoded data removed]",
      "text/plain": [
       "<Figure size 432x288 with 1 Axes>"
      ]
     },
     "metadata": {
      "needs_background": "light"
     },
     "output_type": "display_data"
    }
   ],
   "source": [
    "sns.boxplot(x=df.Size).set(title=\" BOXPLOT FOR SIZE\",ylabel=\"Size\",xlabel=\"count\")"
   ]
  },
  {
   "cell_type": "markdown",
   "id": "2897e45a",
   "metadata": {},
   "source": [
    "## REMOVING OUTLIER USING THREE STD DEVIATION METHOD."
   ]
  },
  {
   "cell_type": "code",
   "execution_count": 34,
   "id": "2c5bfd9d",
   "metadata": {},
   "outputs": [
    {
     "name": "stdout",
     "output_type": "stream",
     "text": [
      "Before removing outlier values (10792, 13)\n",
      "\u001b[1m\u001b[32mRating\u001b[0m\n",
      "Int64Index([], dtype='int64')\n",
      "\u001b[1m\u001b[32mReviews\u001b[0m\n",
      "Int64Index([ 335,  336,  338,  342,  378,  381,  382,  385,  391,  403,\n",
      "            ...\n",
      "            4234, 4568, 4676, 4688, 5395, 6449, 7536, 7937, 8894, 8896],\n",
      "           dtype='int64', length=103)\n",
      "\u001b[1m\u001b[32mSize\u001b[0m\n",
      "Int64Index([  728,   748,  1055,  1080,  1312,  1345,  1384,  1522,  1531,\n",
      "             1565,\n",
      "            ...\n",
      "            10060, 10100, 10192, 10271, 10345, 10394, 10396, 10507, 10588,\n",
      "            10784],\n",
      "           dtype='int64', length=278)\n",
      "\u001b[1m\u001b[32mInstalls\u001b[0m\n",
      "Int64Index([ 152,  340,  341,  347,  371,  383,  386,  451,  464,  465,  865,\n",
      "            1661, 1729, 1759, 1886, 1920, 2546, 2554, 3117, 3127, 3223, 3232,\n",
      "            3234, 3235, 3255, 3265, 3326, 3450, 3454, 3473, 3476, 3522, 3523,\n",
      "            3533, 3562, 3565, 3569, 3574, 3687, 3703, 3711, 3736, 3755, 3765,\n",
      "            3767, 3816, 3819, 3907, 3934, 4039, 4041, 4048, 4096, 4098, 4105,\n",
      "            4144, 4147, 4150, 4153, 4170, 4222, 4365, 4566, 5596, 5856, 9844],\n",
      "           dtype='int64')\n",
      "\u001b[1m\u001b[32mPrice\u001b[0m\n",
      "Int64Index([2253, 2365, 2390, 4197, 4362, 4367, 5351, 5354, 5355, 5356, 5357,\n",
      "            5358, 5359, 5362, 5364, 5366, 5369, 5373, 6559, 6624, 9730],\n",
      "           dtype='int64')\n",
      "After removing outlier values (10324, 13)\n"
     ]
    }
   ],
   "source": [
    "\n",
    "\n",
    "print(f\"Before removing outlier values {df.shape}\")\n",
    "for i in df.columns:\n",
    "    if df[i].dtype!='O':\n",
    "        mean_val=df[i].mean()\n",
    "        three_sd=df[i].std()*3 \n",
    "        upper_limit=mean_val+three_sd\n",
    "        lower_limit=mean_val-three_sd\n",
    "        outlier=df[(df[i]>upper_limit )|(df[i]<lower_limit)]\n",
    "        print(colored(i,'green',attrs=['bold']))\n",
    "        print(outlier.index)\n",
    "\n",
    "        df=df[(df[i]<=upper_limit ) & (df[i]>=lower_limit)]\n",
    "\n",
    "print(f\"After removing outlier values {df.shape}\")"
   ]
  },
  {
   "cell_type": "code",
   "execution_count": 35,
   "id": "d829235e",
   "metadata": {},
   "outputs": [
    {
     "data": {
      "text/plain": [
       "[Text(0.5, 1.0, 'HEAT MAP')]"
      ]
     },
     "execution_count": 35,
     "metadata": {},
     "output_type": "execute_result"
    },
    {
     "data": {
      "image/png": "[encoded data removed]",
      "text/plain": [
       "<Figure size 864x648 with 2 Axes>"
      ]
     },
     "metadata": {
      "needs_background": "light"
     },
     "output_type": "display_data"
    }
   ],
   "source": [
    "plt.figure(figsize=(12,9.0))\n",
    "Corr_mat=df.corr()\n",
    "sns.heatmap(data=Corr_mat,annot=True).set(title=\"HEAT MAP\")  #Check the correlation matrix"
   ]
  },
  {
   "cell_type": "markdown",
   "id": "08022e3d",
   "metadata": {},
   "source": [
    "## PRICE \n",
    "##### Price: From the box plot, it seems like there are some apps with very high price. A price of 200 for an application on the Play Store is very high and suspicious!\n",
    "##### Check out the records with very high price"
   ]
  },
  {
   "cell_type": "code",
   "execution_count": 36,
   "id": "16b85488",
   "metadata": {},
   "outputs": [
    {
     "data": {
      "text/plain": [
       "array([ 0.  ,  4.99,  3.99,  6.99,  1.49,  2.99,  7.99,  5.99,  3.49,\n",
       "        1.99,  9.99,  7.49,  0.99,  9.  ,  5.49, 10.  , 24.99, 11.99,\n",
       "       16.99, 14.99,  1.  , 29.99, 12.99,  2.49, 10.99,  1.5 , 19.99,\n",
       "       33.99, 39.99,  3.95,  4.49,  1.7 ,  8.99,  2.  ,  3.88, 25.99,\n",
       "       17.99,  3.02,  1.76,  4.84,  1.61,  2.5 ,  1.59,  6.49,  1.29,\n",
       "        5.  , 37.99, 18.99, 19.9 ,  8.49,  1.75, 14.  ,  4.85,  3.08,\n",
       "        2.59,  4.8 ,  1.96, 19.4 ,  3.9 ,  4.59, 15.46,  3.04, 13.99,\n",
       "        4.29,  2.6 ,  3.28,  4.6 , 28.99,  2.95,  2.9 ,  1.97,  2.56,\n",
       "        3.61,  1.26,  1.2 ,  1.04])"
      ]
     },
     "execution_count": 36,
     "metadata": {},
     "output_type": "execute_result"
    }
   ],
   "source": [
    "df.Price.unique()               #Check the unique value of price columns"
   ]
  },
  {
   "cell_type": "code",
   "execution_count": 37,
   "id": "6dee2b27",
   "metadata": {},
   "outputs": [
    {
     "name": "stdout",
     "output_type": "stream",
     "text": [
      "Before dropping length 10324\n"
     ]
    }
   ],
   "source": [
    "print(f'Before dropping length {len(df.Price)}' )        #Check the length of the  price  values ,before dropping it."
   ]
  },
  {
   "cell_type": "code",
   "execution_count": 38,
   "id": "789c37a8",
   "metadata": {},
   "outputs": [],
   "source": [
    "df=df[(df.Price)<200]"
   ]
  },
  {
   "cell_type": "code",
   "execution_count": 39,
   "id": "e286fff1",
   "metadata": {},
   "outputs": [
    {
     "name": "stdout",
     "output_type": "stream",
     "text": [
      "After dropping length is:  10324\n"
     ]
    }
   ],
   "source": [
    "print(f'After dropping length is:  {len(df.Price)}' ) "
   ]
  },
  {
   "cell_type": "markdown",
   "id": "fe3a30c5",
   "metadata": {},
   "source": [
    "## REVIEWS\n",
    "### Reviews: Very few apps have very high number of reviews. These are all star apps that don’t help with the analysis and, in fact, will skew it. Drop records having more than 2 million reviews."
   ]
  },
  {
   "cell_type": "code",
   "execution_count": 40,
   "id": "bee66742",
   "metadata": {},
   "outputs": [
    {
     "name": "stdout",
     "output_type": "stream",
     "text": [
      "Total Reviews length values is  :10324\n",
      "The review value greater then 2 million count is (dropping length) :280\n",
      "The review value  Less then 2 million count is  :10044\n",
      "Sum of the both values  :10324\n"
     ]
    }
   ],
   "source": [
    "Review_list=[]                           # Check manually how many rows are dropped\n",
    "drop_list=[]\n",
    "for i in df.Reviews:\n",
    "    if(i>2000000):\n",
    "        drop_list.append(i)\n",
    "    else:\n",
    "        Review_list.append(i)\n",
    "print(f'Total Reviews length values is  :{len(df.Reviews)}' )\n",
    "print(f'The review value greater then 2 million count is (dropping length) :{len(drop_list)}')\n",
    "print(f'The review value  Less then 2 million count is  :{len(Review_list)}')\n",
    "print(f'Sum of the both values  :{len(drop_list+Review_list)}')"
   ]
  },
  {
   "cell_type": "code",
   "execution_count": 41,
   "id": "be5a4948",
   "metadata": {},
   "outputs": [],
   "source": [
    "df=df[(df.Reviews<2000000)]                   # drop the values greater then 2 millions."
   ]
  },
  {
   "cell_type": "code",
   "execution_count": 42,
   "id": "8e068bcd",
   "metadata": {},
   "outputs": [
    {
     "name": "stdout",
     "output_type": "stream",
     "text": [
      "The review value Less then 2 million counts is  :10044\n",
      "The length of the Reviews values counts after dropping :10044\n",
      "Both the df length is Equals\n"
     ]
    }
   ],
   "source": [
    "print(f'The review value Less then 2 million counts is  :{len(Review_list)}')\n",
    "print(f'The length of the Reviews values counts after dropping :{len(df.Reviews)}' )\n",
    "print(f\"Both the df length is {'Equals' if len(Review_list)==len(df.Reviews) else 'Not Equals'}\")#  the length of Reviews after dropping."
   ]
  },
  {
   "cell_type": "markdown",
   "id": "f25e21db",
   "metadata": {},
   "source": [
    "## INSTALLS\n",
    "###  Installs:  There seems to be some outliers in this field too. Apps having very high number of installs should be dropped from the analysis.\n",
    "\n",
    "#### Find out the different percentiles – 10, 25, 50, 70, 90, 95, 99"
   ]
  },
  {
   "cell_type": "code",
   "execution_count": 43,
   "id": "9195d777",
   "metadata": {},
   "outputs": [
    {
     "name": "stdout",
     "output_type": "stream",
     "text": [
      "10 % of Installs values is : 100.0\n",
      "25 % of Installs values is : 1000.0\n",
      "50 % of Installs values is : 100000.0\n",
      "70 % of Installs values is : 1000000.0\n",
      "90 % of Installs values is : 10000000.0\n",
      "95 % of Installs values is : 10000000.0\n",
      "99 % of Installs values is : 100000000.0\n"
     ]
    }
   ],
   "source": [
    "different_percentiles=[0.1,0.25,0.50,0.70,0.90,0.95,0.99]\n",
    "l1=[]\n",
    "for i in different_percentiles:\n",
    "    l1.append(str(int(i*100))+' % of Installs values is : '+str(df['Installs'].quantile(i)))\n",
    "for i in l1:\n",
    "    print(i)"
   ]
  },
  {
   "cell_type": "code",
   "execution_count": 44,
   "id": "0ccb99f3",
   "metadata": {},
   "outputs": [],
   "source": [
    "df=df[(df['Installs']<df['Installs'].max())]       # Apps having very high number of installs should be dropped from the analysis."
   ]
  },
  {
   "cell_type": "code",
   "execution_count": 45,
   "id": "f8170f7a",
   "metadata": {},
   "outputs": [
    {
     "data": {
      "text/plain": [
       "(9922, 13)"
      ]
     },
     "execution_count": 45,
     "metadata": {},
     "output_type": "execute_result"
    }
   ],
   "source": [
    "df.shape"
   ]
  },
  {
   "cell_type": "code",
   "execution_count": 46,
   "id": "5ecb59d1",
   "metadata": {},
   "outputs": [
    {
     "data": {
      "text/plain": [
       "array([ 0.  ,  4.99,  3.99,  6.99,  1.49,  2.99,  7.99,  5.99,  3.49,\n",
       "        1.99,  9.99,  7.49,  0.99,  9.  ,  5.49, 10.  , 24.99, 11.99,\n",
       "       16.99, 14.99,  1.  , 29.99, 12.99,  2.49, 10.99,  1.5 , 19.99,\n",
       "       33.99, 39.99,  3.95,  4.49,  1.7 ,  8.99,  2.  ,  3.88, 25.99,\n",
       "       17.99,  3.02,  1.76,  4.84,  1.61,  2.5 ,  1.59,  6.49,  1.29,\n",
       "        5.  , 37.99, 18.99, 19.9 ,  8.49,  1.75, 14.  ,  4.85,  3.08,\n",
       "        2.59,  4.8 ,  1.96, 19.4 ,  3.9 ,  4.59, 15.46,  3.04, 13.99,\n",
       "        4.29,  2.6 ,  3.28,  4.6 , 28.99,  2.95,  2.9 ,  1.97,  2.56,\n",
       "        3.61,  1.26,  1.2 ,  1.04])"
      ]
     },
     "execution_count": 46,
     "metadata": {},
     "output_type": "execute_result"
    }
   ],
   "source": [
    "df[\"Price\"].unique()"
   ]
  },
  {
   "cell_type": "markdown",
   "id": "6c9e032f",
   "metadata": {},
   "source": [
    "## CATEGORIES"
   ]
  },
  {
   "cell_type": "code",
   "execution_count": 47,
   "id": "5b3adf5a",
   "metadata": {},
   "outputs": [
    {
     "data": {
      "text/plain": [
       "[Text(0.5, 1.0, 'The most dominant category')]"
      ]
     },
     "execution_count": 47,
     "metadata": {},
     "output_type": "execute_result"
    },
    {
     "data": {
      "image/png": "[encoded data removed]",
      "text/plain": [
       "<Figure size 1440x1440 with 1 Axes>"
      ]
     },
     "metadata": {
      "needs_background": "light"
     },
     "output_type": "display_data"
    }
   ],
   "source": [
    "plt.figure(figsize=(20,20))\n",
    "categories = df[\"Category\"].value_counts()\n",
    "sns.barplot(x=categories.values, y=categories.index, palette=\"GnBu\").set(title=\"The most dominant category\")\n"
   ]
  },
  {
   "cell_type": "code",
   "execution_count": 48,
   "id": "a35c2aea",
   "metadata": {},
   "outputs": [
    {
     "name": "stdout",
     "output_type": "stream",
     "text": [
      "FAMILY CATEGORIES APPS ARE MOST POPULAR ONE.\n"
     ]
    }
   ],
   "source": [
    "print(\"FAMILY CATEGORIES APPS ARE MOST POPULAR ONE.\")"
   ]
  },
  {
   "cell_type": "markdown",
   "id": "8aff2743",
   "metadata": {},
   "source": [
    "## FIND CORRELATION IN VARIABLES AND REMOVE ALL BUT ONE WHICH ARE HIGHLY CORRELATED.\n"
   ]
  },
  {
   "cell_type": "code",
   "execution_count": 49,
   "id": "06edeea0",
   "metadata": {},
   "outputs": [
    {
     "data": {
      "text/html": [
       "<div>\n",
       "<style scoped>\n",
       "    .dataframe tbody tr th:only-of-type {\n",
       "        vertical-align: middle;\n",
       "    }\n",
       "\n",
       "    .dataframe tbody tr th {\n",
       "        vertical-align: top;\n",
       "    }\n",
       "\n",
       "    .dataframe thead th {\n",
       "        text-align: right;\n",
       "    }\n",
       "</style>\n",
       "<table border=\"1\" class=\"dataframe\">\n",
       "  <thead>\n",
       "    <tr style=\"text-align: right;\">\n",
       "      <th></th>\n",
       "      <th>Reviews</th>\n",
       "      <th>Size</th>\n",
       "      <th>Installs</th>\n",
       "      <th>Price</th>\n",
       "    </tr>\n",
       "  </thead>\n",
       "  <tbody>\n",
       "    <tr>\n",
       "      <th>Reviews</th>\n",
       "      <td>1.000000</td>\n",
       "      <td>0.139649</td>\n",
       "      <td>0.755281</td>\n",
       "      <td>-0.058524</td>\n",
       "    </tr>\n",
       "    <tr>\n",
       "      <th>Size</th>\n",
       "      <td>0.139649</td>\n",
       "      <td>1.000000</td>\n",
       "      <td>0.095918</td>\n",
       "      <td>0.008812</td>\n",
       "    </tr>\n",
       "    <tr>\n",
       "      <th>Installs</th>\n",
       "      <td>0.755281</td>\n",
       "      <td>0.095918</td>\n",
       "      <td>1.000000</td>\n",
       "      <td>-0.064055</td>\n",
       "    </tr>\n",
       "    <tr>\n",
       "      <th>Price</th>\n",
       "      <td>-0.058524</td>\n",
       "      <td>0.008812</td>\n",
       "      <td>-0.064055</td>\n",
       "      <td>1.000000</td>\n",
       "    </tr>\n",
       "  </tbody>\n",
       "</table>\n",
       "</div>"
      ],
      "text/plain": [
       "           Reviews      Size  Installs     Price\n",
       "Reviews   1.000000  0.139649  0.755281 -0.058524\n",
       "Size      0.139649  1.000000  0.095918  0.008812\n",
       "Installs  0.755281  0.095918  1.000000 -0.064055\n",
       "Price    -0.058524  0.008812 -0.064055  1.000000"
      ]
     },
     "execution_count": 49,
     "metadata": {},
     "output_type": "execute_result"
    }
   ],
   "source": [
    "corr=df.drop([\"Rating\"],axis=1).corr()  #Finding correlation between columns except target variable\n",
    "corr"
   ]
  },
  {
   "cell_type": "code",
   "execution_count": 50,
   "id": "78e5e5c3",
   "metadata": {},
   "outputs": [
    {
     "data": {
      "text/plain": [
       "[Text(0.5, 1.0, 'HEAT MAP')]"
      ]
     },
     "execution_count": 50,
     "metadata": {},
     "output_type": "execute_result"
    },
    {
     "data": {
      "image/png": "[encoded data removed]",
      "text/plain": [
       "<Figure size 720x540 with 2 Axes>"
      ]
     },
     "metadata": {
      "needs_background": "light"
     },
     "output_type": "display_data"
    }
   ],
   "source": [
    "plt.figure(figsize=(10,7.5))\n",
    "sns.heatmap(corr,annot=True).set(title=\"HEAT MAP\")"
   ]
  },
  {
   "cell_type": "code",
   "execution_count": 51,
   "id": "ff3587a8",
   "metadata": {},
   "outputs": [
    {
     "data": {
      "text/html": [
       "<div>\n",
       "<style scoped>\n",
       "    .dataframe tbody tr th:only-of-type {\n",
       "        vertical-align: middle;\n",
       "    }\n",
       "\n",
       "    .dataframe tbody tr th {\n",
       "        vertical-align: top;\n",
       "    }\n",
       "\n",
       "    .dataframe thead th {\n",
       "        text-align: right;\n",
       "    }\n",
       "</style>\n",
       "<table border=\"1\" class=\"dataframe\">\n",
       "  <thead>\n",
       "    <tr style=\"text-align: right;\">\n",
       "      <th></th>\n",
       "      <th>Reviews</th>\n",
       "      <th>Size</th>\n",
       "      <th>Installs</th>\n",
       "      <th>Price</th>\n",
       "    </tr>\n",
       "  </thead>\n",
       "  <tbody>\n",
       "    <tr>\n",
       "      <th>Reviews</th>\n",
       "      <td>NaN</td>\n",
       "      <td>0.139649</td>\n",
       "      <td>0.755281</td>\n",
       "      <td>-0.058524</td>\n",
       "    </tr>\n",
       "    <tr>\n",
       "      <th>Size</th>\n",
       "      <td>NaN</td>\n",
       "      <td>NaN</td>\n",
       "      <td>0.095918</td>\n",
       "      <td>0.008812</td>\n",
       "    </tr>\n",
       "    <tr>\n",
       "      <th>Installs</th>\n",
       "      <td>NaN</td>\n",
       "      <td>NaN</td>\n",
       "      <td>NaN</td>\n",
       "      <td>-0.064055</td>\n",
       "    </tr>\n",
       "    <tr>\n",
       "      <th>Price</th>\n",
       "      <td>NaN</td>\n",
       "      <td>NaN</td>\n",
       "      <td>NaN</td>\n",
       "      <td>NaN</td>\n",
       "    </tr>\n",
       "  </tbody>\n",
       "</table>\n",
       "</div>"
      ],
      "text/plain": [
       "          Reviews      Size  Installs     Price\n",
       "Reviews       NaN  0.139649  0.755281 -0.058524\n",
       "Size          NaN       NaN  0.095918  0.008812\n",
       "Installs      NaN       NaN       NaN -0.064055\n",
       "Price         NaN       NaN       NaN       NaN"
      ]
     },
     "execution_count": 51,
     "metadata": {},
     "output_type": "execute_result"
    }
   ],
   "source": [
    "upper_triangle=corr.where(np.triu(np.ones(corr.shape),k=1).astype(np.bool))#Taking upper triangle value .\n",
    "upper_triangle"
   ]
  },
  {
   "cell_type": "code",
   "execution_count": 52,
   "id": "86088659",
   "metadata": {},
   "outputs": [
    {
     "name": "stdout",
     "output_type": "stream",
     "text": [
      "No Columns are Highly correlated\n"
     ]
    },
    {
     "data": {
      "text/html": [
       "<div>\n",
       "<style scoped>\n",
       "    .dataframe tbody tr th:only-of-type {\n",
       "        vertical-align: middle;\n",
       "    }\n",
       "\n",
       "    .dataframe tbody tr th {\n",
       "        vertical-align: top;\n",
       "    }\n",
       "\n",
       "    .dataframe thead th {\n",
       "        text-align: right;\n",
       "    }\n",
       "</style>\n",
       "<table border=\"1\" class=\"dataframe\">\n",
       "  <thead>\n",
       "    <tr style=\"text-align: right;\">\n",
       "      <th></th>\n",
       "      <th>App</th>\n",
       "      <th>Category</th>\n",
       "      <th>Rating</th>\n",
       "      <th>Reviews</th>\n",
       "      <th>Size</th>\n",
       "      <th>Installs</th>\n",
       "      <th>Type</th>\n",
       "      <th>Price</th>\n",
       "      <th>Content Rating</th>\n",
       "      <th>Genres</th>\n",
       "      <th>Last Updated</th>\n",
       "      <th>Current Ver</th>\n",
       "      <th>Android Ver</th>\n",
       "    </tr>\n",
       "  </thead>\n",
       "  <tbody>\n",
       "    <tr>\n",
       "      <th>0</th>\n",
       "      <td>Photo Editor  Candy Camera  Grid  ScrapBook</td>\n",
       "      <td>ARTANDDESIGN</td>\n",
       "      <td>4.1</td>\n",
       "      <td>159.0</td>\n",
       "      <td>19000.0</td>\n",
       "      <td>10000.0</td>\n",
       "      <td>Free</td>\n",
       "      <td>0.0</td>\n",
       "      <td>Everyone</td>\n",
       "      <td>Art  Design</td>\n",
       "      <td>07-Jan-18</td>\n",
       "      <td>1.0.0</td>\n",
       "      <td>4.0.3 and up</td>\n",
       "    </tr>\n",
       "    <tr>\n",
       "      <th>1</th>\n",
       "      <td>Coloring book moana</td>\n",
       "      <td>ARTANDDESIGN</td>\n",
       "      <td>3.9</td>\n",
       "      <td>967.0</td>\n",
       "      <td>14000.0</td>\n",
       "      <td>500000.0</td>\n",
       "      <td>Free</td>\n",
       "      <td>0.0</td>\n",
       "      <td>Everyone</td>\n",
       "      <td>Art  DesignPretend Play</td>\n",
       "      <td>15-Jan-18</td>\n",
       "      <td>2.0.0</td>\n",
       "      <td>4.0.3 and up</td>\n",
       "    </tr>\n",
       "    <tr>\n",
       "      <th>2</th>\n",
       "      <td>U Launcher Lite – FREE Live Cool Themes Hide Apps</td>\n",
       "      <td>ARTANDDESIGN</td>\n",
       "      <td>4.7</td>\n",
       "      <td>87510.0</td>\n",
       "      <td>8700.0</td>\n",
       "      <td>5000000.0</td>\n",
       "      <td>Free</td>\n",
       "      <td>0.0</td>\n",
       "      <td>Everyone</td>\n",
       "      <td>Art  Design</td>\n",
       "      <td>01-Aug-18</td>\n",
       "      <td>1.2.4</td>\n",
       "      <td>4.0.3 and up</td>\n",
       "    </tr>\n",
       "    <tr>\n",
       "      <th>3</th>\n",
       "      <td>Sketch - Draw  Paint</td>\n",
       "      <td>ARTANDDESIGN</td>\n",
       "      <td>4.5</td>\n",
       "      <td>215644.0</td>\n",
       "      <td>25000.0</td>\n",
       "      <td>50000000.0</td>\n",
       "      <td>Free</td>\n",
       "      <td>0.0</td>\n",
       "      <td>Teen</td>\n",
       "      <td>Art  Design</td>\n",
       "      <td>08-Jun-18</td>\n",
       "      <td>Varies with device</td>\n",
       "      <td>4.2 and up</td>\n",
       "    </tr>\n",
       "    <tr>\n",
       "      <th>4</th>\n",
       "      <td>Pixel Draw - Number Art Coloring Book</td>\n",
       "      <td>ARTANDDESIGN</td>\n",
       "      <td>4.3</td>\n",
       "      <td>967.0</td>\n",
       "      <td>2800.0</td>\n",
       "      <td>100000.0</td>\n",
       "      <td>Free</td>\n",
       "      <td>0.0</td>\n",
       "      <td>Everyone</td>\n",
       "      <td>Art  DesignCreativity</td>\n",
       "      <td>20-Jun-18</td>\n",
       "      <td>1.1</td>\n",
       "      <td>4.4 and up</td>\n",
       "    </tr>\n",
       "  </tbody>\n",
       "</table>\n",
       "</div>"
      ],
      "text/plain": [
       "                                                 App      Category  Rating  \\\n",
       "0        Photo Editor  Candy Camera  Grid  ScrapBook  ARTANDDESIGN     4.1   \n",
       "1                                Coloring book moana  ARTANDDESIGN     3.9   \n",
       "2  U Launcher Lite – FREE Live Cool Themes Hide Apps  ARTANDDESIGN     4.7   \n",
       "3                               Sketch - Draw  Paint  ARTANDDESIGN     4.5   \n",
       "4              Pixel Draw - Number Art Coloring Book  ARTANDDESIGN     4.3   \n",
       "\n",
       "    Reviews     Size    Installs  Type  Price Content Rating  \\\n",
       "0     159.0  19000.0     10000.0  Free    0.0       Everyone   \n",
       "1     967.0  14000.0    500000.0  Free    0.0       Everyone   \n",
       "2   87510.0   8700.0   5000000.0  Free    0.0       Everyone   \n",
       "3  215644.0  25000.0  50000000.0  Free    0.0           Teen   \n",
       "4     967.0   2800.0    100000.0  Free    0.0       Everyone   \n",
       "\n",
       "                    Genres Last Updated         Current Ver   Android Ver  \n",
       "0              Art  Design    07-Jan-18               1.0.0  4.0.3 and up  \n",
       "1  Art  DesignPretend Play    15-Jan-18               2.0.0  4.0.3 and up  \n",
       "2              Art  Design    01-Aug-18               1.2.4  4.0.3 and up  \n",
       "3              Art  Design    08-Jun-18  Varies with device    4.2 and up  \n",
       "4    Art  DesignCreativity    20-Jun-18                 1.1    4.4 and up  "
      ]
     },
     "execution_count": 52,
     "metadata": {},
     "output_type": "execute_result"
    }
   ],
   "source": [
    "drop_list=[i for i in upper_triangle.columns if any(upper_triangle[i]>0.80)] #check the column ,which is highly correlated\n",
    "if len(drop_list)>0:\n",
    "    print(drop_list)\n",
    "else:\n",
    "    print(\"No Columns are Highly correlated\")\n",
    "df.head()"
   ]
  },
  {
   "cell_type": "markdown",
   "id": "06a871c7",
   "metadata": {},
   "source": [
    "#### Make scatter plot/joinplot for Rating vs. Price"
   ]
  },
  {
   "cell_type": "code",
   "execution_count": 53,
   "id": "16c4d8be",
   "metadata": {},
   "outputs": [
    {
     "data": {
      "text/plain": [
       "[Text(0.5, 1.0, ' Rating vs. Price')]"
      ]
     },
     "execution_count": 53,
     "metadata": {},
     "output_type": "execute_result"
    },
    {
     "data": {
      "image/png": "[encoded data removed]",
      "text/plain": [
       "<Figure size 432x288 with 1 Axes>"
      ]
     },
     "metadata": {
      "needs_background": "light"
     },
     "output_type": "display_data"
    }
   ],
   "source": [
    "sns.scatterplot(data=df, x=\"Rating\", y=\"Price\").set(title=\" Rating vs. Price\")"
   ]
  },
  {
   "cell_type": "markdown",
   "id": "04d2ce52",
   "metadata": {},
   "source": [
    "#### Make scatter plot/joinplot for Rating vs. Size"
   ]
  },
  {
   "cell_type": "code",
   "execution_count": 54,
   "id": "641f50a5",
   "metadata": {},
   "outputs": [
    {
     "data": {
      "text/plain": [
       "[Text(0.5, 1.0, ' Rating vs. Size')]"
      ]
     },
     "execution_count": 54,
     "metadata": {},
     "output_type": "execute_result"
    },
    {
     "data": {
      "image/png": "[encoded data removed]",
      "text/plain": [
       "<Figure size 432x288 with 1 Axes>"
      ]
     },
     "metadata": {
      "needs_background": "light"
     },
     "output_type": "display_data"
    }
   ],
   "source": [
    "sns.scatterplot(data=df, x=\"Rating\", y=\"Size\").set(title=\" Rating vs. Size\")"
   ]
  },
  {
   "cell_type": "markdown",
   "id": "9601608b",
   "metadata": {},
   "source": [
    "#### Make scatter plot/joinplot for Rating vs. Reviews"
   ]
  },
  {
   "cell_type": "code",
   "execution_count": 55,
   "id": "31291985",
   "metadata": {},
   "outputs": [
    {
     "data": {
      "text/plain": [
       "[Text(0.5, 1.0, 'Rating vs. Reviews')]"
      ]
     },
     "execution_count": 55,
     "metadata": {},
     "output_type": "execute_result"
    },
    {
     "data": {
      "image/png": "[encoded data removed]",
      "text/plain": [
       "<Figure size 432x288 with 1 Axes>"
      ]
     },
     "metadata": {
      "needs_background": "light"
     },
     "output_type": "display_data"
    }
   ],
   "source": [
    "sns.scatterplot(data=df, x=\"Rating\", y=\"Reviews\").set(title=\"Rating vs. Reviews\")"
   ]
  },
  {
   "cell_type": "markdown",
   "id": "10e086f4",
   "metadata": {},
   "source": [
    "#### Make boxplot for Rating vs. Content Rating"
   ]
  },
  {
   "cell_type": "code",
   "execution_count": 56,
   "id": "fccde5e4",
   "metadata": {},
   "outputs": [
    {
     "data": {
      "text/plain": [
       "[Text(0.5, 1.0, 'Make boxplot for Rating vs. Content Rating')]"
      ]
     },
     "execution_count": 56,
     "metadata": {},
     "output_type": "execute_result"
    },
    {
     "data": {
      "image/png": "[encoded data removed]",
      "text/plain": [
       "<Figure size 720x720 with 1 Axes>"
      ]
     },
     "metadata": {
      "needs_background": "light"
     },
     "output_type": "display_data"
    }
   ],
   "source": [
    "plt.figure(figsize=(10,10))\n",
    "sns.boxplot(data=df, x=\"Rating\", y=\"Content Rating\").set(title=\"Make boxplot for Rating vs. Content Rating\")"
   ]
  },
  {
   "cell_type": "markdown",
   "id": "d55bd1ed",
   "metadata": {},
   "source": [
    "#### Make boxplot for Ratings vs. Category"
   ]
  },
  {
   "cell_type": "code",
   "execution_count": 57,
   "id": "9e05b679",
   "metadata": {},
   "outputs": [
    {
     "data": {
      "text/plain": [
       "[Text(0.5, 1.0, 'Make boxplot for Ratings vs. Category')]"
      ]
     },
     "execution_count": 57,
     "metadata": {},
     "output_type": "execute_result"
    },
    {
     "data": {
      "image/png": "[encoded data removed]",
      "text/plain": [
       "<Figure size 720x720 with 1 Axes>"
      ]
     },
     "metadata": {
      "needs_background": "light"
     },
     "output_type": "display_data"
    }
   ],
   "source": [
    "plt.figure(figsize=(10,10))\n",
    "sns.boxplot(data=df, x=\"Rating\", y=\"Category\").set(title=\"Make boxplot for Ratings vs. Category\")"
   ]
  },
  {
   "cell_type": "markdown",
   "id": "757509f4",
   "metadata": {},
   "source": [
    "###### Create a copy of the dataframe to make all the edits. Name it inp1"
   ]
  },
  {
   "cell_type": "code",
   "execution_count": 58,
   "id": "ca1306e6",
   "metadata": {},
   "outputs": [],
   "source": [
    "inp1=df.copy()     #Create a copy of the dataframe to make all the edits. Name it inp1\n",
    "inp1.head() \n",
    "log_df=inp1.copy()         #copy of  Logistic regression \n",
    "dis_df=inp1.copy()         #copy of disiciontree "
   ]
  },
  {
   "cell_type": "code",
   "execution_count": 59,
   "id": "7c3a1d7d",
   "metadata": {},
   "outputs": [
    {
     "data": {
      "text/plain": [
       "(9922, 13)"
      ]
     },
     "execution_count": 59,
     "metadata": {},
     "output_type": "execute_result"
    }
   ],
   "source": [
    "df.shape"
   ]
  },
  {
   "cell_type": "code",
   "execution_count": 60,
   "id": "f2fb2787",
   "metadata": {},
   "outputs": [
    {
     "data": {
      "text/plain": [
       "(9922, 13)"
      ]
     },
     "execution_count": 60,
     "metadata": {},
     "output_type": "execute_result"
    }
   ],
   "source": [
    "inp1.shape"
   ]
  },
  {
   "cell_type": "markdown",
   "id": "67e2f1cd",
   "metadata": {},
   "source": [
    "###### Reduce the skew. Apply log transformation (np.log1p) to Reviews and Installs."
   ]
  },
  {
   "cell_type": "code",
   "execution_count": 61,
   "id": "e93b8725",
   "metadata": {},
   "outputs": [
    {
     "data": {
      "text/html": [
       "<div>\n",
       "<style scoped>\n",
       "    .dataframe tbody tr th:only-of-type {\n",
       "        vertical-align: middle;\n",
       "    }\n",
       "\n",
       "    .dataframe tbody tr th {\n",
       "        vertical-align: top;\n",
       "    }\n",
       "\n",
       "    .dataframe thead th {\n",
       "        text-align: right;\n",
       "    }\n",
       "</style>\n",
       "<table border=\"1\" class=\"dataframe\">\n",
       "  <thead>\n",
       "    <tr style=\"text-align: right;\">\n",
       "      <th></th>\n",
       "      <th>App</th>\n",
       "      <th>Category</th>\n",
       "      <th>Rating</th>\n",
       "      <th>Reviews</th>\n",
       "      <th>Size</th>\n",
       "      <th>Installs</th>\n",
       "      <th>Type</th>\n",
       "      <th>Price</th>\n",
       "      <th>Content Rating</th>\n",
       "      <th>Genres</th>\n",
       "      <th>Last Updated</th>\n",
       "      <th>Current Ver</th>\n",
       "      <th>Android Ver</th>\n",
       "    </tr>\n",
       "  </thead>\n",
       "  <tbody>\n",
       "    <tr>\n",
       "      <th>10836</th>\n",
       "      <td>Sya9a Maroc - FR</td>\n",
       "      <td>FAMILY</td>\n",
       "      <td>4.5</td>\n",
       "      <td>3.663562</td>\n",
       "      <td>53000.0</td>\n",
       "      <td>8.517393</td>\n",
       "      <td>Free</td>\n",
       "      <td>0.0</td>\n",
       "      <td>Everyone</td>\n",
       "      <td>Education</td>\n",
       "      <td>25-Jul-17</td>\n",
       "      <td>1.48</td>\n",
       "      <td>4.1 and up</td>\n",
       "    </tr>\n",
       "    <tr>\n",
       "      <th>10837</th>\n",
       "      <td>Fr. Mike Schmitz Audio Teachings</td>\n",
       "      <td>FAMILY</td>\n",
       "      <td>5.0</td>\n",
       "      <td>1.609438</td>\n",
       "      <td>3600.0</td>\n",
       "      <td>4.615121</td>\n",
       "      <td>Free</td>\n",
       "      <td>0.0</td>\n",
       "      <td>Everyone</td>\n",
       "      <td>Education</td>\n",
       "      <td>06-Jul-18</td>\n",
       "      <td>1</td>\n",
       "      <td>4.1 and up</td>\n",
       "    </tr>\n",
       "    <tr>\n",
       "      <th>10838</th>\n",
       "      <td>Parkinson Exercices FR</td>\n",
       "      <td>MEDICAL</td>\n",
       "      <td>1.2</td>\n",
       "      <td>1.386294</td>\n",
       "      <td>9500.0</td>\n",
       "      <td>6.908755</td>\n",
       "      <td>Free</td>\n",
       "      <td>0.0</td>\n",
       "      <td>Everyone</td>\n",
       "      <td>Medical</td>\n",
       "      <td>20-Jan-17</td>\n",
       "      <td>1</td>\n",
       "      <td>2.2 and up</td>\n",
       "    </tr>\n",
       "    <tr>\n",
       "      <th>10839</th>\n",
       "      <td>The SCP Foundation DB fr nn5n</td>\n",
       "      <td>BOOKSANDREFERENCE</td>\n",
       "      <td>4.5</td>\n",
       "      <td>4.744932</td>\n",
       "      <td>11000.0</td>\n",
       "      <td>6.908755</td>\n",
       "      <td>Free</td>\n",
       "      <td>0.0</td>\n",
       "      <td>Mature 17</td>\n",
       "      <td>Books  Reference</td>\n",
       "      <td>19-Jan-15</td>\n",
       "      <td>Varies with device</td>\n",
       "      <td>Varies with device</td>\n",
       "    </tr>\n",
       "    <tr>\n",
       "      <th>10840</th>\n",
       "      <td>iHoroscope - 2018 Daily Horoscope  Astrology</td>\n",
       "      <td>LIFESTYLE</td>\n",
       "      <td>4.5</td>\n",
       "      <td>12.894981</td>\n",
       "      <td>19000.0</td>\n",
       "      <td>16.118096</td>\n",
       "      <td>Free</td>\n",
       "      <td>0.0</td>\n",
       "      <td>Everyone</td>\n",
       "      <td>Lifestyle</td>\n",
       "      <td>25-Jul-18</td>\n",
       "      <td>Varies with device</td>\n",
       "      <td>Varies with device</td>\n",
       "    </tr>\n",
       "  </tbody>\n",
       "</table>\n",
       "</div>"
      ],
      "text/plain": [
       "                                                App           Category  \\\n",
       "10836                              Sya9a Maroc - FR             FAMILY   \n",
       "10837              Fr. Mike Schmitz Audio Teachings             FAMILY   \n",
       "10838                        Parkinson Exercices FR            MEDICAL   \n",
       "10839                 The SCP Foundation DB fr nn5n  BOOKSANDREFERENCE   \n",
       "10840  iHoroscope - 2018 Daily Horoscope  Astrology          LIFESTYLE   \n",
       "\n",
       "       Rating    Reviews     Size   Installs  Type  Price Content Rating  \\\n",
       "10836     4.5   3.663562  53000.0   8.517393  Free    0.0       Everyone   \n",
       "10837     5.0   1.609438   3600.0   4.615121  Free    0.0       Everyone   \n",
       "10838     1.2   1.386294   9500.0   6.908755  Free    0.0       Everyone   \n",
       "10839     4.5   4.744932  11000.0   6.908755  Free    0.0      Mature 17   \n",
       "10840     4.5  12.894981  19000.0  16.118096  Free    0.0       Everyone   \n",
       "\n",
       "                 Genres Last Updated         Current Ver         Android Ver  \n",
       "10836         Education    25-Jul-17                1.48          4.1 and up  \n",
       "10837         Education    06-Jul-18                   1          4.1 and up  \n",
       "10838           Medical    20-Jan-17                   1          2.2 and up  \n",
       "10839  Books  Reference    19-Jan-15  Varies with device  Varies with device  \n",
       "10840         Lifestyle    25-Jul-18  Varies with device  Varies with device  "
      ]
     },
     "execution_count": 61,
     "metadata": {},
     "output_type": "execute_result"
    }
   ],
   "source": [
    "inp1[['Reviews','Installs']]=np.log1p(inp1[['Reviews','Installs']])  # using np.log1 method to perform log transformation.\n",
    "inp1.tail()    "
   ]
  },
  {
   "cell_type": "markdown",
   "id": "cc2dd11a",
   "metadata": {},
   "source": [
    "###### Drop columns App, Last Updated, Current Ver, and Android Ver. These variables are not useful for our task."
   ]
  },
  {
   "cell_type": "code",
   "execution_count": 62,
   "id": "10c81bfb",
   "metadata": {},
   "outputs": [],
   "source": [
    "inp1.drop(['App','Last Updated','Current Ver','Android Ver'],axis=1,inplace=True) #drop the unused columns and store the remaining values in inp1 DataFrame"
   ]
  },
  {
   "cell_type": "code",
   "execution_count": 63,
   "id": "3fd187c1",
   "metadata": {},
   "outputs": [
    {
     "data": {
      "text/html": [
       "<div>\n",
       "<style scoped>\n",
       "    .dataframe tbody tr th:only-of-type {\n",
       "        vertical-align: middle;\n",
       "    }\n",
       "\n",
       "    .dataframe tbody tr th {\n",
       "        vertical-align: top;\n",
       "    }\n",
       "\n",
       "    .dataframe thead th {\n",
       "        text-align: right;\n",
       "    }\n",
       "</style>\n",
       "<table border=\"1\" class=\"dataframe\">\n",
       "  <thead>\n",
       "    <tr style=\"text-align: right;\">\n",
       "      <th></th>\n",
       "      <th>Category</th>\n",
       "      <th>Rating</th>\n",
       "      <th>Reviews</th>\n",
       "      <th>Size</th>\n",
       "      <th>Installs</th>\n",
       "      <th>Type</th>\n",
       "      <th>Price</th>\n",
       "      <th>Content Rating</th>\n",
       "      <th>Genres</th>\n",
       "    </tr>\n",
       "  </thead>\n",
       "  <tbody>\n",
       "    <tr>\n",
       "      <th>0</th>\n",
       "      <td>ARTANDDESIGN</td>\n",
       "      <td>4.1</td>\n",
       "      <td>5.075174</td>\n",
       "      <td>19000.0</td>\n",
       "      <td>9.210440</td>\n",
       "      <td>Free</td>\n",
       "      <td>0.0</td>\n",
       "      <td>Everyone</td>\n",
       "      <td>Art  Design</td>\n",
       "    </tr>\n",
       "    <tr>\n",
       "      <th>1</th>\n",
       "      <td>ARTANDDESIGN</td>\n",
       "      <td>3.9</td>\n",
       "      <td>6.875232</td>\n",
       "      <td>14000.0</td>\n",
       "      <td>13.122365</td>\n",
       "      <td>Free</td>\n",
       "      <td>0.0</td>\n",
       "      <td>Everyone</td>\n",
       "      <td>Art  DesignPretend Play</td>\n",
       "    </tr>\n",
       "    <tr>\n",
       "      <th>2</th>\n",
       "      <td>ARTANDDESIGN</td>\n",
       "      <td>4.7</td>\n",
       "      <td>11.379520</td>\n",
       "      <td>8700.0</td>\n",
       "      <td>15.424949</td>\n",
       "      <td>Free</td>\n",
       "      <td>0.0</td>\n",
       "      <td>Everyone</td>\n",
       "      <td>Art  Design</td>\n",
       "    </tr>\n",
       "    <tr>\n",
       "      <th>3</th>\n",
       "      <td>ARTANDDESIGN</td>\n",
       "      <td>4.5</td>\n",
       "      <td>12.281389</td>\n",
       "      <td>25000.0</td>\n",
       "      <td>17.727534</td>\n",
       "      <td>Free</td>\n",
       "      <td>0.0</td>\n",
       "      <td>Teen</td>\n",
       "      <td>Art  Design</td>\n",
       "    </tr>\n",
       "    <tr>\n",
       "      <th>4</th>\n",
       "      <td>ARTANDDESIGN</td>\n",
       "      <td>4.3</td>\n",
       "      <td>6.875232</td>\n",
       "      <td>2800.0</td>\n",
       "      <td>11.512935</td>\n",
       "      <td>Free</td>\n",
       "      <td>0.0</td>\n",
       "      <td>Everyone</td>\n",
       "      <td>Art  DesignCreativity</td>\n",
       "    </tr>\n",
       "  </tbody>\n",
       "</table>\n",
       "</div>"
      ],
      "text/plain": [
       "       Category  Rating    Reviews     Size   Installs  Type  Price  \\\n",
       "0  ARTANDDESIGN     4.1   5.075174  19000.0   9.210440  Free    0.0   \n",
       "1  ARTANDDESIGN     3.9   6.875232  14000.0  13.122365  Free    0.0   \n",
       "2  ARTANDDESIGN     4.7  11.379520   8700.0  15.424949  Free    0.0   \n",
       "3  ARTANDDESIGN     4.5  12.281389  25000.0  17.727534  Free    0.0   \n",
       "4  ARTANDDESIGN     4.3   6.875232   2800.0  11.512935  Free    0.0   \n",
       "\n",
       "  Content Rating                   Genres  \n",
       "0       Everyone              Art  Design  \n",
       "1       Everyone  Art  DesignPretend Play  \n",
       "2       Everyone              Art  Design  \n",
       "3           Teen              Art  Design  \n",
       "4       Everyone    Art  DesignCreativity  "
      ]
     },
     "execution_count": 63,
     "metadata": {},
     "output_type": "execute_result"
    }
   ],
   "source": [
    "inp1.head()"
   ]
  },
  {
   "cell_type": "code",
   "execution_count": 64,
   "id": "b5d0522e",
   "metadata": {},
   "outputs": [
    {
     "data": {
      "text/plain": [
       "Index(['Category', 'Rating', 'Reviews', 'Size', 'Installs', 'Type', 'Price',\n",
       "       'Content Rating', 'Genres'],\n",
       "      dtype='object')"
      ]
     },
     "execution_count": 64,
     "metadata": {},
     "output_type": "execute_result"
    }
   ],
   "source": [
    "inp1.columns #check the columns names after dropping"
   ]
  },
  {
   "cell_type": "markdown",
   "id": "84d91f7d",
   "metadata": {},
   "source": [
    "###### Get dummy columns for Category, Genres, and Content Rating. This needs to be done as the models do not understand categorical data, and all data should be numeric. Dummy encoding is one way to convert character fields to numeric. Name of dataframe should be inp2."
   ]
  },
  {
   "cell_type": "code",
   "execution_count": 65,
   "id": "1c8dad7a",
   "metadata": {},
   "outputs": [],
   "source": [
    "df_test=inp1['Rating']\n"
   ]
  },
  {
   "cell_type": "code",
   "execution_count": 66,
   "id": "1544c556",
   "metadata": {},
   "outputs": [
    {
     "data": {
      "text/plain": [
       "Reviews                                      float64\n",
       "Size                                         float64\n",
       "Installs                                     float64\n",
       "Price                                        float64\n",
       "Category_ARTANDDESIGN                          uint8\n",
       "                                              ...   \n",
       "Genres_Video Players  EditorsMusic  Video      uint8\n",
       "Genres_Weather                                 uint8\n",
       "Genres_Word                                    uint8\n",
       "Type_Free                                      uint8\n",
       "Type_Paid                                      uint8\n",
       "Length: 159, dtype: object"
      ]
     },
     "execution_count": 66,
     "metadata": {},
     "output_type": "execute_result"
    }
   ],
   "source": [
    "inp2 = pd.get_dummies(inp1,columns=[\"Category\",'Content Rating','Genres','Type'],drop_first=False)\n",
    "inp2.head()\n",
    "df_train=inp2.drop([\"Rating\"],axis=1) # Create the df_train variable and store all independent variables .\n",
    "df_train.dtypes                       # Check the dtypes of df_train,because the string  format is not supported the model all must have numeric type.\n"
   ]
  },
  {
   "cell_type": "markdown",
   "id": "4e89e077",
   "metadata": {},
   "source": [
    "## LINEAR REGRESSION\n",
    "##### TRAIN  TEST  SPLIT  AND  APPLY  70-30  SPLIT .NAME THE  NEW DATAFRAMES  df_train  AND  df_test.  SEPARATE  THE   DATAFRAMES   INTO x_train,y_train,x_test and y_test.\n"
   ]
  },
  {
   "cell_type": "code",
   "execution_count": 67,
   "id": "89053f6b",
   "metadata": {},
   "outputs": [],
   "source": [
    "#linear regression\n",
    "from sklearn.linear_model import LinearRegression  #Using.linear_model sklearn import LinearRegression.\n",
    "from sklearn.model_selection import train_test_split \n",
    "from sklearn.metrics import mean_squared_error \n",
    "from sklearn.metrics import r2_score\n"
   ]
  },
  {
   "cell_type": "code",
   "execution_count": 68,
   "id": "0ffe05b1",
   "metadata": {},
   "outputs": [
    {
     "name": "stdout",
     "output_type": "stream",
     "text": [
      "shape of x_train  (6945, 159)\n",
      "shape of y_train  (6945,)\n",
      "shape of x_test  (2977, 159)\n",
      "shape of y_test  (2977,)\n"
     ]
    }
   ],
   "source": [
    "# TRAIN  TEST  SPLIT  AND  APPLY  70-30  SPLIT .NAME THE  NEW DATAFRAMES  df_train  AND  df_test.  SEPARATE  THE   DATAFRAMES   INTO x_train,y_train,x_test and y_test.\n",
    "X_train, X_test, Y_train, Y_test  = train_test_split(df_train,df_test,test_size=0.3,random_state=5)\n",
    "print(\"shape of x_train \", X_train.shape)\n",
    "print(\"shape of y_train \", Y_train.shape)\n",
    "print(\"shape of x_test \", X_test.shape)\n",
    "print(\"shape of y_test \", Y_test.shape)"
   ]
  },
  {
   "cell_type": "code",
   "execution_count": 69,
   "id": "6f6900fd",
   "metadata": {},
   "outputs": [
    {
     "data": {
      "text/plain": [
       "LinearRegression()"
      ]
     },
     "execution_count": 69,
     "metadata": {},
     "output_type": "execute_result"
    }
   ],
   "source": [
    "lin_model= LinearRegression()           #Store the LinearRegression model in 'model' variable.\n",
    "lin_model.fit(X_train, Y_train)          #fit the model xtrain and ytrain in fit function.fit function contains y=mx+c (linear Regression)"
   ]
  },
  {
   "cell_type": "markdown",
   "id": "52f4002c",
   "metadata": {},
   "source": [
    "## REPORT THE R2 SCORE  AND RMSE ON THE TRAINING SET"
   ]
  },
  {
   "cell_type": "code",
   "execution_count": 70,
   "id": "2dc612ff",
   "metadata": {},
   "outputs": [
    {
     "name": "stdout",
     "output_type": "stream",
     "text": [
      "The model performance for training set\n",
      "--------------------------------------\n",
      "RMSE is 0.9055884784133156\n",
      "R2 score is 0.3883053408518268\n",
      "Accuracy is :39.0%\n",
      "\n",
      "\n"
     ]
    }
   ],
   "source": [
    "# model evaluation for training set\n",
    "\n",
    "y_train_predict = lin_model.predict(X_train)\n",
    "rmse = (np.sqrt(mean_squared_error(Y_train, y_train_predict)))\n",
    "r2 = r2_score(Y_train, y_train_predict)\n",
    "\n",
    "print(\"The model performance for training set\")\n",
    "print(\"--------------------------------------\")\n",
    "print('RMSE is {}'.format(rmse))\n",
    "\n",
    "print('R2 score is {}'.format(r2))\n",
    "r2=(round(r2,2)*100)\n",
    "print(f'Accuracy is :{r2}%')\n",
    "print(\"\\n\")"
   ]
  },
  {
   "cell_type": "markdown",
   "id": "34130f03",
   "metadata": {},
   "source": [
    "## REPORT THE R2 SCORE  AND RMSE ON THE TESTING SET"
   ]
  },
  {
   "cell_type": "code",
   "execution_count": 71,
   "id": "34b65974",
   "metadata": {},
   "outputs": [
    {
     "name": "stdout",
     "output_type": "stream",
     "text": [
      "The model performance for testing set\n",
      "--------------------------------------\n",
      "RMSE is 0.9215214685971475\n",
      "R2 score is 0.35315950292102016\n",
      "Accuracy is :35.0%\n"
     ]
    }
   ],
   "source": [
    "# model evaluation for testing set\n",
    "\n",
    "y_test_predict = lin_model.predict(X_test)\n",
    "rmse = (np.sqrt(mean_squared_error(Y_test, y_test_predict)))\n",
    "r2 = r2_score(Y_test, y_test_predict)\n",
    "\n",
    "print(\"The model performance for testing set\")\n",
    "print(\"--------------------------------------\")\n",
    "print('RMSE is {}'.format(rmse))\n",
    "print('R2 score is {}'.format(r2))\n",
    "r2=(round(r2,2)*100)\n",
    "print(f'Accuracy is :{r2}%')\n",
    "linear_r2val=r2\n"
   ]
  },
  {
   "cell_type": "markdown",
   "id": "0c737b84",
   "metadata": {},
   "source": [
    "## SLOPES AND INTERCEPT"
   ]
  },
  {
   "cell_type": "code",
   "execution_count": 72,
   "id": "1b4b7929",
   "metadata": {},
   "outputs": [
    {
     "name": "stdout",
     "output_type": "stream",
     "text": [
      "slopes are  [ 1.61213803e-01 -1.62447585e-06  2.27413627e-02 -1.04571729e-02\n",
      "  4.70702683e-01  1.10282632e-01  8.19401208e-02  5.59212839e-02\n",
      " -7.07385058e-02  4.75121841e-01 -7.77335446e-02 -3.94440972e-02\n",
      " -2.49252283e-01 -2.59302356e-01  2.00881607e-01  7.94074262e-02\n",
      "  7.74518235e-02 -3.47016828e-02 -8.53133706e-02  9.76838683e-03\n",
      " -5.93479236e-02  2.43636609e-02  4.47054203e-02  5.30083631e-02\n",
      "  1.19500580e-01 -2.57467631e-03 -1.00914330e-01  4.46031137e-02\n",
      " -5.27384324e-02 -1.71425335e-02 -1.87146986e-02 -1.26989202e-02\n",
      " -5.84819325e-01 -9.01444899e-02  1.25218128e-01 -1.91611344e-01\n",
      " -2.56845555e-02 -6.13974827e-02 -3.27435953e-02 -8.54824719e-02\n",
      " -2.83892231e-02 -1.50001803e-01  3.58014576e-01  1.60128919e-01\n",
      " -1.86208050e-01  2.61763498e-01 -1.77270495e-01  6.77132680e-02\n",
      "  4.29248041e-02 -2.85987730e-01  2.01866574e-01 -2.15510522e+00\n",
      " -5.41364128e-02  8.55517390e-02  1.10282632e-01  8.19401208e-02\n",
      "  3.27905766e-01 -1.21359610e-01  4.38277472e-01 -6.24500451e-13\n",
      "  5.59212839e-02 -2.00397452e+00  6.22220953e-01 -7.07385059e-02\n",
      "  1.09255186e-01 -6.11458727e-01 -5.47395462e-13  4.52585393e-01\n",
      "  5.86753057e-03 -3.35510399e-01  4.40223790e-01 -3.23349993e-02\n",
      "  1.15603229e-01 -3.65056859e-01 -1.96936928e-01 -2.66103210e-01\n",
      "  7.41225051e-01 -7.77335446e-02  1.75604245e-01 -3.94440972e-02\n",
      "  3.78154797e-01  4.65278130e-01 -1.32817559e-01  3.94967479e-01\n",
      "  5.16053410e-01  3.01116827e-02  8.74083979e-01 -8.48921757e-02\n",
      "  4.31932984e-01  2.15008261e-01 -1.43598365e-01  2.86321156e-02\n",
      " -2.89842098e-01  9.09183010e-02 -2.98641520e-02  1.74749608e-02\n",
      "  1.41329964e-01  2.38273283e-01 -1.87587691e-01 -5.86498509e-01\n",
      "  2.00881607e-01  7.74518235e-02 -3.47016828e-02  9.76838692e-03\n",
      "  6.15787798e-01 -5.93479236e-02  2.43636609e-02  4.47054203e-02\n",
      "  3.28373858e-01  5.30083632e-02  1.19500580e-01 -8.47142495e-02\n",
      "  4.23895524e-01  4.47798011e-01 -2.57467620e-03  4.35647531e-01\n",
      " -7.85276108e-02 -1.06663029e+00  6.08596043e-01  4.46031137e-02\n",
      " -5.27384324e-02 -1.71425335e-02 -2.76638480e-02 -7.72682455e-01\n",
      "  5.99707730e-02 -2.10942375e-15  5.55111512e-17 -1.99948853e-01\n",
      " -1.22337593e-01  6.34367674e-01 -2.64086895e-03  2.93158543e-02\n",
      " -3.30932430e-01 -1.80839077e-01 -1.87146986e-02  6.53822087e-02\n",
      " -1.54558823e-02  4.20389355e-01  2.75101439e-01 -1.26989202e-02\n",
      "  4.79633552e-01 -4.56587644e-01 -1.75639456e-01  1.84682163e-01\n",
      " -1.38839626e-01  6.10210696e-01  7.26446609e-02 -1.62789151e-01\n",
      " -1.55251136e-01  2.80469264e-01 -2.30662102e-03 -1.64616722e+00\n",
      "  1.11451088e-01 -3.03062433e-01 -6.09487608e-01 -2.56845555e-02\n",
      "  2.13486083e-01 -2.27468472e-01  2.27468472e-01]\n",
      "intercept is  \u001b[1m\u001b[34m2.6100311757214385\u001b[0m\n"
     ]
    }
   ],
   "source": [
    "print(\"slopes are \", lin_model.coef_)\n",
    "print(\"intercept is \", colored(lin_model.intercept_,'blue',attrs=['bold']))\n"
   ]
  },
  {
   "cell_type": "markdown",
   "id": "1f8e4e02",
   "metadata": {},
   "source": [
    "# LOGISTIC REGRESSION"
   ]
  },
  {
   "cell_type": "code",
   "execution_count": 73,
   "id": "0625355f",
   "metadata": {},
   "outputs": [
    {
     "data": {
      "text/html": [
       "<div>\n",
       "<style scoped>\n",
       "    .dataframe tbody tr th:only-of-type {\n",
       "        vertical-align: middle;\n",
       "    }\n",
       "\n",
       "    .dataframe tbody tr th {\n",
       "        vertical-align: top;\n",
       "    }\n",
       "\n",
       "    .dataframe thead th {\n",
       "        text-align: right;\n",
       "    }\n",
       "</style>\n",
       "<table border=\"1\" class=\"dataframe\">\n",
       "  <thead>\n",
       "    <tr style=\"text-align: right;\">\n",
       "      <th></th>\n",
       "      <th>App</th>\n",
       "      <th>Category</th>\n",
       "      <th>Rating</th>\n",
       "      <th>Reviews</th>\n",
       "      <th>Size</th>\n",
       "      <th>Installs</th>\n",
       "      <th>Type</th>\n",
       "      <th>Price</th>\n",
       "      <th>Content Rating</th>\n",
       "      <th>Genres</th>\n",
       "      <th>Last Updated</th>\n",
       "      <th>Current Ver</th>\n",
       "      <th>Android Ver</th>\n",
       "    </tr>\n",
       "  </thead>\n",
       "  <tbody>\n",
       "    <tr>\n",
       "      <th>0</th>\n",
       "      <td>Photo Editor  Candy Camera  Grid  ScrapBook</td>\n",
       "      <td>ARTANDDESIGN</td>\n",
       "      <td>4.1</td>\n",
       "      <td>159.0</td>\n",
       "      <td>19000.0</td>\n",
       "      <td>10000.0</td>\n",
       "      <td>Free</td>\n",
       "      <td>0.0</td>\n",
       "      <td>Everyone</td>\n",
       "      <td>Art  Design</td>\n",
       "      <td>07-Jan-18</td>\n",
       "      <td>1.0.0</td>\n",
       "      <td>4.0.3 and up</td>\n",
       "    </tr>\n",
       "    <tr>\n",
       "      <th>1</th>\n",
       "      <td>Coloring book moana</td>\n",
       "      <td>ARTANDDESIGN</td>\n",
       "      <td>3.9</td>\n",
       "      <td>967.0</td>\n",
       "      <td>14000.0</td>\n",
       "      <td>500000.0</td>\n",
       "      <td>Free</td>\n",
       "      <td>0.0</td>\n",
       "      <td>Everyone</td>\n",
       "      <td>Art  DesignPretend Play</td>\n",
       "      <td>15-Jan-18</td>\n",
       "      <td>2.0.0</td>\n",
       "      <td>4.0.3 and up</td>\n",
       "    </tr>\n",
       "    <tr>\n",
       "      <th>2</th>\n",
       "      <td>U Launcher Lite – FREE Live Cool Themes Hide Apps</td>\n",
       "      <td>ARTANDDESIGN</td>\n",
       "      <td>4.7</td>\n",
       "      <td>87510.0</td>\n",
       "      <td>8700.0</td>\n",
       "      <td>5000000.0</td>\n",
       "      <td>Free</td>\n",
       "      <td>0.0</td>\n",
       "      <td>Everyone</td>\n",
       "      <td>Art  Design</td>\n",
       "      <td>01-Aug-18</td>\n",
       "      <td>1.2.4</td>\n",
       "      <td>4.0.3 and up</td>\n",
       "    </tr>\n",
       "    <tr>\n",
       "      <th>3</th>\n",
       "      <td>Sketch - Draw  Paint</td>\n",
       "      <td>ARTANDDESIGN</td>\n",
       "      <td>4.5</td>\n",
       "      <td>215644.0</td>\n",
       "      <td>25000.0</td>\n",
       "      <td>50000000.0</td>\n",
       "      <td>Free</td>\n",
       "      <td>0.0</td>\n",
       "      <td>Teen</td>\n",
       "      <td>Art  Design</td>\n",
       "      <td>08-Jun-18</td>\n",
       "      <td>Varies with device</td>\n",
       "      <td>4.2 and up</td>\n",
       "    </tr>\n",
       "    <tr>\n",
       "      <th>4</th>\n",
       "      <td>Pixel Draw - Number Art Coloring Book</td>\n",
       "      <td>ARTANDDESIGN</td>\n",
       "      <td>4.3</td>\n",
       "      <td>967.0</td>\n",
       "      <td>2800.0</td>\n",
       "      <td>100000.0</td>\n",
       "      <td>Free</td>\n",
       "      <td>0.0</td>\n",
       "      <td>Everyone</td>\n",
       "      <td>Art  DesignCreativity</td>\n",
       "      <td>20-Jun-18</td>\n",
       "      <td>1.1</td>\n",
       "      <td>4.4 and up</td>\n",
       "    </tr>\n",
       "  </tbody>\n",
       "</table>\n",
       "</div>"
      ],
      "text/plain": [
       "                                                 App      Category  Rating  \\\n",
       "0        Photo Editor  Candy Camera  Grid  ScrapBook  ARTANDDESIGN     4.1   \n",
       "1                                Coloring book moana  ARTANDDESIGN     3.9   \n",
       "2  U Launcher Lite – FREE Live Cool Themes Hide Apps  ARTANDDESIGN     4.7   \n",
       "3                               Sketch - Draw  Paint  ARTANDDESIGN     4.5   \n",
       "4              Pixel Draw - Number Art Coloring Book  ARTANDDESIGN     4.3   \n",
       "\n",
       "    Reviews     Size    Installs  Type  Price Content Rating  \\\n",
       "0     159.0  19000.0     10000.0  Free    0.0       Everyone   \n",
       "1     967.0  14000.0    500000.0  Free    0.0       Everyone   \n",
       "2   87510.0   8700.0   5000000.0  Free    0.0       Everyone   \n",
       "3  215644.0  25000.0  50000000.0  Free    0.0           Teen   \n",
       "4     967.0   2800.0    100000.0  Free    0.0       Everyone   \n",
       "\n",
       "                    Genres Last Updated         Current Ver   Android Ver  \n",
       "0              Art  Design    07-Jan-18               1.0.0  4.0.3 and up  \n",
       "1  Art  DesignPretend Play    15-Jan-18               2.0.0  4.0.3 and up  \n",
       "2              Art  Design    01-Aug-18               1.2.4  4.0.3 and up  \n",
       "3              Art  Design    08-Jun-18  Varies with device    4.2 and up  \n",
       "4    Art  DesignCreativity    20-Jun-18                 1.1    4.4 and up  "
      ]
     },
     "execution_count": 73,
     "metadata": {},
     "output_type": "execute_result"
    }
   ],
   "source": [
    " # Taking copy of (original Analysis data) inp1 data to log_df.\n",
    "log_df.head()               "
   ]
  },
  {
   "cell_type": "markdown",
   "id": "c3c44c4c",
   "metadata": {},
   "source": [
    "### CONVERTING CONTINUOUS DATA TO CATEGORICAL DATA BECAUSE CONTINUOUS DATA IS NOT SUPPORTED IN LOGISTIC REGRESSION.\n",
    "\n",
    "\n"
   ]
  },
  {
   "cell_type": "code",
   "execution_count": 74,
   "id": "54c3ec49",
   "metadata": {},
   "outputs": [],
   "source": [
    "# USING LABLEENCODER CONVERTING ALL CONTINUOUS DATA TO CATEGORICAL DATA          \n",
    "from sklearn.preprocessing import LabelEncoder          \n",
    "label=LabelEncoder()\n",
    "for i in log_df:\n",
    "    log_df[i]=label.fit_transform(log_df[i])\n"
   ]
  },
  {
   "cell_type": "code",
   "execution_count": 75,
   "id": "1c428e7a",
   "metadata": {},
   "outputs": [
    {
     "data": {
      "text/html": [
       "<div>\n",
       "<style scoped>\n",
       "    .dataframe tbody tr th:only-of-type {\n",
       "        vertical-align: middle;\n",
       "    }\n",
       "\n",
       "    .dataframe tbody tr th {\n",
       "        vertical-align: top;\n",
       "    }\n",
       "\n",
       "    .dataframe thead th {\n",
       "        text-align: right;\n",
       "    }\n",
       "</style>\n",
       "<table border=\"1\" class=\"dataframe\">\n",
       "  <thead>\n",
       "    <tr style=\"text-align: right;\">\n",
       "      <th></th>\n",
       "      <th>App</th>\n",
       "      <th>Category</th>\n",
       "      <th>Rating</th>\n",
       "      <th>Reviews</th>\n",
       "      <th>Size</th>\n",
       "      <th>Installs</th>\n",
       "      <th>Type</th>\n",
       "      <th>Price</th>\n",
       "      <th>Content Rating</th>\n",
       "      <th>Genres</th>\n",
       "      <th>Last Updated</th>\n",
       "      <th>Current Ver</th>\n",
       "      <th>Android Ver</th>\n",
       "    </tr>\n",
       "  </thead>\n",
       "  <tbody>\n",
       "    <tr>\n",
       "      <th>0</th>\n",
       "      <td>6574</td>\n",
       "      <td>0</td>\n",
       "      <td>29</td>\n",
       "      <td>158</td>\n",
       "      <td>370</td>\n",
       "      <td>8</td>\n",
       "      <td>0</td>\n",
       "      <td>0</td>\n",
       "      <td>1</td>\n",
       "      <td>7</td>\n",
       "      <td>291</td>\n",
       "      <td>106</td>\n",
       "      <td>15</td>\n",
       "    </tr>\n",
       "    <tr>\n",
       "      <th>1</th>\n",
       "      <td>2509</td>\n",
       "      <td>0</td>\n",
       "      <td>27</td>\n",
       "      <td>722</td>\n",
       "      <td>365</td>\n",
       "      <td>11</td>\n",
       "      <td>0</td>\n",
       "      <td>0</td>\n",
       "      <td>1</td>\n",
       "      <td>10</td>\n",
       "      <td>657</td>\n",
       "      <td>913</td>\n",
       "      <td>15</td>\n",
       "    </tr>\n",
       "    <tr>\n",
       "      <th>2</th>\n",
       "      <td>8148</td>\n",
       "      <td>0</td>\n",
       "      <td>35</td>\n",
       "      <td>3839</td>\n",
       "      <td>348</td>\n",
       "      <td>13</td>\n",
       "      <td>0</td>\n",
       "      <td>0</td>\n",
       "      <td>1</td>\n",
       "      <td>7</td>\n",
       "      <td>6</td>\n",
       "      <td>425</td>\n",
       "      <td>15</td>\n",
       "    </tr>\n",
       "    <tr>\n",
       "      <th>3</th>\n",
       "      <td>7384</td>\n",
       "      <td>0</td>\n",
       "      <td>33</td>\n",
       "      <td>4422</td>\n",
       "      <td>376</td>\n",
       "      <td>15</td>\n",
       "      <td>0</td>\n",
       "      <td>0</td>\n",
       "      <td>4</td>\n",
       "      <td>7</td>\n",
       "      <td>341</td>\n",
       "      <td>2524</td>\n",
       "      <td>17</td>\n",
       "    </tr>\n",
       "    <tr>\n",
       "      <th>4</th>\n",
       "      <td>6627</td>\n",
       "      <td>0</td>\n",
       "      <td>31</td>\n",
       "      <td>722</td>\n",
       "      <td>289</td>\n",
       "      <td>10</td>\n",
       "      <td>0</td>\n",
       "      <td>0</td>\n",
       "      <td>1</td>\n",
       "      <td>9</td>\n",
       "      <td>894</td>\n",
       "      <td>256</td>\n",
       "      <td>19</td>\n",
       "    </tr>\n",
       "  </tbody>\n",
       "</table>\n",
       "</div>"
      ],
      "text/plain": [
       "    App  Category  Rating  Reviews  Size  Installs  Type  Price  \\\n",
       "0  6574         0      29      158   370         8     0      0   \n",
       "1  2509         0      27      722   365        11     0      0   \n",
       "2  8148         0      35     3839   348        13     0      0   \n",
       "3  7384         0      33     4422   376        15     0      0   \n",
       "4  6627         0      31      722   289        10     0      0   \n",
       "\n",
       "   Content Rating  Genres  Last Updated  Current Ver  Android Ver  \n",
       "0               1       7           291          106           15  \n",
       "1               1      10           657          913           15  \n",
       "2               1       7             6          425           15  \n",
       "3               4       7           341         2524           17  \n",
       "4               1       9           894          256           19  "
      ]
     },
     "execution_count": 75,
     "metadata": {},
     "output_type": "execute_result"
    }
   ],
   "source": [
    "# CHECKING THE CATEGORICAL DATA \n",
    "log_df.head()                                        "
   ]
  },
  {
   "cell_type": "code",
   "execution_count": 76,
   "id": "cf6a9a52",
   "metadata": {},
   "outputs": [
    {
     "name": "stdout",
     "output_type": "stream",
     "text": [
      "DEPENDENT VARIABLES :\n",
      "0        29\n",
      "1        27\n",
      "2        35\n",
      "3        33\n",
      "4        31\n",
      "         ..\n",
      "10836    33\n",
      "10837    38\n",
      "10838     1\n",
      "10839    33\n",
      "10840    33\n",
      "Name: Rating, Length: 9922, dtype: int64\n",
      "INDEPENDENT VARIABLES:\n",
      "       Category  Reviews  Size  Installs  Type  Content Rating\n",
      "0             0      158   370         8     0               1\n",
      "1             0      722   365        11     0               1\n",
      "2             0     3839   348        13     0               1\n",
      "3             0     4422   376        15     0               4\n",
      "4             0      722   289        10     0               1\n",
      "...         ...      ...   ...       ...   ...             ...\n",
      "10836        11       38   404         7     0               1\n",
      "10837        11        4   297         4     0               1\n",
      "10838        20        3   356         6     0               1\n",
      "10839         3      114   362         6     0               3\n",
      "10840        18     4767   370        14     0               1\n",
      "\n",
      "[9922 rows x 6 columns]\n"
     ]
    }
   ],
   "source": [
    " # CONSIDERING 'Y'  IS DEPENDENT VARIABLES ,DEPENDENT VARIABLES \n",
    "y=log_df['Rating']\n",
    "#CONSIDERING 'X' IS THE INDEPENDENT VARIABLES\n",
    "x=log_df.drop(['Rating','App','Price','Genres','Last Updated','Current Ver','Android Ver'],axis=1)\n",
    "print(f\"DEPENDENT VARIABLES :\\n{y}\\nINDEPENDENT VARIABLES:\\n{x}\")\n"
   ]
  },
  {
   "cell_type": "code",
   "execution_count": 77,
   "id": "1be1f9f3",
   "metadata": {},
   "outputs": [],
   "source": [
    "from sklearn.linear_model import LogisticRegression         \n",
    "from sklearn.metrics import accuracy_score, f1_score\n",
    "\n",
    "from sklearn.metrics import classification_report"
   ]
  },
  {
   "cell_type": "code",
   "execution_count": 78,
   "id": "04ddfa7a",
   "metadata": {},
   "outputs": [
    {
     "name": "stdout",
     "output_type": "stream",
     "text": [
      "shape of x_train  (6945, 6)\n",
      "shape of y_train  (2977, 6)\n",
      "shape of x_test  (6945,)\n",
      "shape of y_test  (2977,)\n"
     ]
    }
   ],
   "source": [
    "# TRAIN  TEST  SPLIT  AND  APPLY  70-30  SPLIT .NAME THE  NEW DATAFRAMES  x  AND  y .  SEPARATE  THE   DATAFRAMES   INTO x_train,y_train,x_test and y_test.\n",
    "train_x, test_x, train_y, test_y  = train_test_split(x,y,test_size=0.3,random_state=5)\n",
    "print(\"shape of x_train \", train_x.shape)\n",
    "print(\"shape of y_train \", test_x.shape)\n",
    "print(\"shape of x_test \", train_y.shape)\n",
    "print(\"shape of y_test \", test_y.shape)"
   ]
  },
  {
   "cell_type": "code",
   "execution_count": 79,
   "id": "dac60a49",
   "metadata": {},
   "outputs": [],
   "source": [
    "#Load the logisticregression model into model\n",
    "model=LogisticRegression(solver='newton-cg',max_iter=100)   "
   ]
  },
  {
   "cell_type": "code",
   "execution_count": 80,
   "id": "ce6bf159",
   "metadata": {},
   "outputs": [
    {
     "name": "stderr",
     "output_type": "stream",
     "text": [
      "F:\\Anaconda\\lib\\site-packages\\sklearn\\utils\\optimize.py:202: ConvergenceWarning: newton-cg failed to converge. Increase the number of iterations.\n",
      "  warnings.warn(\"newton-cg failed to converge. Increase the \"\n"
     ]
    },
    {
     "data": {
      "text/plain": [
       "LogisticRegression(solver='newton-cg')"
      ]
     },
     "execution_count": 80,
     "metadata": {},
     "output_type": "execute_result"
    }
   ],
   "source": [
    "# Fit the model using fit function ,and pass the dataframe as the arguments like first arguments considering as train_x and \n",
    "# Second arguments considering as train_y\n",
    "model.fit(train_x,train_y)"
   ]
  },
  {
   "cell_type": "markdown",
   "id": "16fb5306",
   "metadata": {},
   "source": [
    "## TESTING SET"
   ]
  },
  {
   "cell_type": "code",
   "execution_count": 81,
   "id": "6308fa84",
   "metadata": {},
   "outputs": [
    {
     "name": "stdout",
     "output_type": "stream",
     "text": [
      "Accuracy Score is=  0.2220356063150823\n",
      "Accuracy in percentage :22.0%\n"
     ]
    }
   ],
   "source": [
    "#predict the model using predict function and pass the argument as text_x\n",
    "pred=model.predict(test_x)\n",
    "#Calculate the accuracy score using accuracy_score function and pass the two arguments 1.test_y and 2.predicted y\n",
    "log_r2=r2_score(test_y,pred)\n",
    "print(\"Accuracy Score is= \",accuracy_score(test_y,pred))\n",
    "log_val=(round(accuracy_score(test_y,pred),2)*100)\n",
    "\n",
    "print(f'Accuracy in percentage :{log_val}%')"
   ]
  },
  {
   "cell_type": "code",
   "execution_count": 82,
   "id": "846d7222",
   "metadata": {},
   "outputs": [
    {
     "name": "stdout",
     "output_type": "stream",
     "text": [
      "              precision    recall  f1-score   support\n",
      "\n",
      "           0       0.00      0.00      0.00         5\n",
      "           1       0.43      0.94      0.59       417\n",
      "           2       0.00      0.00      0.00         1\n",
      "           3       0.00      0.00      0.00         1\n",
      "           5       0.00      0.00      0.00         2\n",
      "           6       0.00      0.00      0.00         4\n",
      "           7       0.00      0.00      0.00         8\n",
      "           8       0.00      0.00      0.00         3\n",
      "           9       0.00      0.00      0.00         1\n",
      "          10       0.00      0.00      0.00         4\n",
      "          11       0.00      0.00      0.00         5\n",
      "          12       0.00      0.00      0.00         3\n",
      "          13       0.00      0.00      0.00         4\n",
      "          14       0.00      0.00      0.00        11\n",
      "          15       0.00      0.00      0.00         6\n",
      "          16       0.00      0.00      0.00        13\n",
      "          17       0.00      0.00      0.00        19\n",
      "          18       0.00      0.00      0.00        29\n",
      "          19       0.00      0.00      0.00        25\n",
      "          20       0.00      0.00      0.00        15\n",
      "          21       0.00      0.00      0.00        35\n",
      "          22       0.00      0.00      0.00        43\n",
      "          23       0.00      0.00      0.00        49\n",
      "          24       0.00      0.00      0.00        62\n",
      "          25       0.00      0.00      0.00        77\n",
      "          26       0.00      0.00      0.00        84\n",
      "          27       0.04      0.02      0.02       115\n",
      "          28       0.00      0.00      0.00       152\n",
      "          29       0.10      0.11      0.11       201\n",
      "          30       0.12      0.11      0.12       261\n",
      "          31       0.11      0.39      0.18       261\n",
      "          32       0.15      0.17      0.16       257\n",
      "          33       0.19      0.25      0.22       275\n",
      "          34       0.00      0.00      0.00       197\n",
      "          35       0.00      0.00      0.00       142\n",
      "          36       0.00      0.00      0.00        75\n",
      "          37       0.00      0.00      0.00        26\n",
      "          38       0.00      0.00      0.00        89\n",
      "\n",
      "    accuracy                           0.22      2977\n",
      "   macro avg       0.03      0.05      0.04      2977\n",
      "weighted avg       0.12      0.22      0.15      2977\n",
      "\n"
     ]
    },
    {
     "name": "stderr",
     "output_type": "stream",
     "text": [
      "F:\\Anaconda\\lib\\site-packages\\sklearn\\metrics\\_classification.py:1245: UndefinedMetricWarning: Precision and F-score are ill-defined and being set to 0.0 in labels with no predicted samples. Use `zero_division` parameter to control this behavior.\n",
      "  _warn_prf(average, modifier, msg_start, len(result))\n",
      "F:\\Anaconda\\lib\\site-packages\\sklearn\\metrics\\_classification.py:1245: UndefinedMetricWarning: Precision and F-score are ill-defined and being set to 0.0 in labels with no predicted samples. Use `zero_division` parameter to control this behavior.\n",
      "  _warn_prf(average, modifier, msg_start, len(result))\n",
      "F:\\Anaconda\\lib\\site-packages\\sklearn\\metrics\\_classification.py:1245: UndefinedMetricWarning: Precision and F-score are ill-defined and being set to 0.0 in labels with no predicted samples. Use `zero_division` parameter to control this behavior.\n",
      "  _warn_prf(average, modifier, msg_start, len(result))\n"
     ]
    }
   ],
   "source": [
    "print(classification_report(test_y,pred))"
   ]
  },
  {
   "cell_type": "code",
   "execution_count": 83,
   "id": "ad4c6573",
   "metadata": {},
   "outputs": [
    {
     "name": "stdout",
     "output_type": "stream",
     "text": [
      "f1_score of the model 0.036591233164332305\n"
     ]
    }
   ],
   "source": [
    "#f1 score\n",
    "print('f1_score of the model',f1_score(test_y,pred,average='macro'))"
   ]
  },
  {
   "cell_type": "markdown",
   "id": "3917b392",
   "metadata": {},
   "source": [
    "## DECISION TREE"
   ]
  },
  {
   "cell_type": "code",
   "execution_count": 84,
   "id": "eeec5e26",
   "metadata": {},
   "outputs": [],
   "source": [
    "from sklearn.tree import DecisionTreeRegressor\n",
    "from sklearn.metrics import r2_score, mean_absolute_error, mean_squared_error"
   ]
  },
  {
   "cell_type": "code",
   "execution_count": 85,
   "id": "efaafd52",
   "metadata": {},
   "outputs": [],
   "source": [
    "# TRAIN  TEST  SPLIT  AND  APPLY  70-30  SPLIT .NAME THE  NEW DATAFRAMES  df_train  AND  df_test .  SEPARATE  THE   DATAFRAMES   INTO x_train,y_train,x_test and y_test."
   ]
  },
  {
   "cell_type": "code",
   "execution_count": 86,
   "id": "3df314dc",
   "metadata": {},
   "outputs": [
    {
     "name": "stdout",
     "output_type": "stream",
     "text": [
      "shape of x_train  (6945, 159)\n",
      "shape of y_train  (2977, 159)\n",
      "shape of x_test  (6945,)\n",
      "shape of y_test  (2977,)\n"
     ]
    }
   ],
   "source": [
    "x_train, x_test, y_train, y_test  = train_test_split(df_train,df_test,test_size=0.3,random_state=5)\n",
    "print(\"shape of x_train \", x_train.shape)\n",
    "print(\"shape of y_train \", x_test.shape)\n",
    "print(\"shape of x_test \", y_train.shape)\n",
    "print(\"shape of y_test \", y_test.shape)"
   ]
  },
  {
   "cell_type": "code",
   "execution_count": 87,
   "id": "b69bb17e",
   "metadata": {},
   "outputs": [],
   "source": [
    "#Load the DecisionTreeRegressor model into dt_model"
   ]
  },
  {
   "cell_type": "code",
   "execution_count": 88,
   "id": "e424870c",
   "metadata": {},
   "outputs": [
    {
     "data": {
      "text/plain": [
       "DecisionTreeRegressor()"
      ]
     },
     "execution_count": 88,
     "metadata": {},
     "output_type": "execute_result"
    }
   ],
   "source": [
    "dt_model=DecisionTreeRegressor()\n",
    "# Fit the model using fit function ,and pass the dataframe as the arguments like first arguments considering as train_x and \n",
    "# Second arguments considering as train_y\n",
    "dt_model.fit(x_train,y_train)\n"
   ]
  },
  {
   "cell_type": "markdown",
   "id": "bca3f4f1",
   "metadata": {},
   "source": [
    "## TRAINING SET"
   ]
  },
  {
   "cell_type": "code",
   "execution_count": 89,
   "id": "f97741ca",
   "metadata": {},
   "outputs": [
    {
     "name": "stdout",
     "output_type": "stream",
     "text": [
      "The model performance for training set\n",
      "--------------------------------------\n",
      "RMSE is 0.022846405479648935\n",
      "R2 score is 0.9996106782449341\n",
      "Accuracy is: 100.0%\n",
      "\n",
      "\n"
     ]
    }
   ],
   "source": [
    "y_Train_Predict=dt_model.predict(x_train)\n",
    "R2=r2_score(y_train,y_Train_Predict)\n",
    "RMSE=np.sqrt(mean_squared_error(y_train,y_Train_Predict))\n",
    "\n",
    "print(\"The model performance for training set\")\n",
    "print(\"--------------------------------------\")\n",
    "print('RMSE is {}'.format(RMSE))\n",
    "print('R2 score is {}'.format(R2))\n",
    "R2=(round(R2,2)*100)\n",
    "print(f'Accuracy is: {R2}%')\n",
    "\n",
    "print(\"\\n\")"
   ]
  },
  {
   "cell_type": "markdown",
   "id": "735bd4e7",
   "metadata": {},
   "source": [
    "## TESTING SET"
   ]
  },
  {
   "cell_type": "code",
   "execution_count": 90,
   "id": "be925055",
   "metadata": {},
   "outputs": [
    {
     "name": "stdout",
     "output_type": "stream",
     "text": [
      "The model performance for training set\n",
      "--------------------------------------\n",
      "RMSE is 1.0822959987087455\n",
      "R2 score is 0.10776677166359683\n",
      "Accuracy is: 11.0\n",
      "\n",
      "\n"
     ]
    }
   ],
   "source": [
    "Y_Test_Predict=dt_model.predict(x_test)\n",
    "dt_r2=r2_score(y_test,Y_Test_Predict)\n",
    "RMSE=np.sqrt(mean_squared_error(y_test,Y_Test_Predict))\n",
    "\n",
    "print(\"The model performance for training set\")\n",
    "print(\"--------------------------------------\")\n",
    "print('RMSE is {}'.format(RMSE))\n",
    "print('R2 score is {}'.format(dt_r2))\n",
    "dt_r2=(round(dt_r2,2)*100)\n",
    "print(f'Accuracy is: {dt_r2}')\n",
    "print(\"\\n\")"
   ]
  },
  {
   "cell_type": "code",
   "execution_count": 91,
   "id": "b6d14716",
   "metadata": {},
   "outputs": [],
   "source": [
    "## ENHANCE MODEL USING FEATURE IMPORTANCE"
   ]
  },
  {
   "cell_type": "code",
   "execution_count": 92,
   "id": "64717574",
   "metadata": {},
   "outputs": [
    {
     "name": "stdout",
     "output_type": "stream",
     "text": [
      "[0.6124818793870286, 0.1374739762308684, 0.04393598125343023, 0.009039018176912644, 0.0018179036640906551, 0.0022233033500244073, 0.0010052423305205315, 0.0018646001321205564, 0.0066294026810480525, 0.00023476674170614935, 0.0040079105521945635, 0.0019079417159982056, 0.00014549191227319547, 0.00015574803901941982, 7.821288958674089e-05, 0.0073583411400892735, 0.0031725119342076516, 0.001090159540795967, 0.0018087965093838358, 0.002753271134127319, 0.0006359420604238878, 0.0018984965997138712, 0.004533438932577839, 0.0006863675904666076, 0.0031520869445440585, 0.0023462753942223176, 0.0016510804786281767, 0.0022591654544909163, 0.0012132406143963476, 0.0032505449347470547, 0.003808296449516903, 0.0015418515447705187, 0.0022129308235828435, 0.004888246579240994, 0.0034426838121298735, 0.0035422230689082825, 0.0013065843710750127, 5.372046696935762e-07, 0.008079832395356736, 0.0008069660051211687, 0.0037387366642616967, 0.0023439550683133402, 0.0, 0.00016042057294340153, 1.3348256983147176e-05, 0.0001644143052019327, 2.9474029844218394e-05, 0.0, 0.000885692520471765, 0.00010612318308543188, 0.00016006092049219414, 0.0008261522166512921, 0.0, 0.0, 0.0003778753940376972, 0.00035834573890582296, 5.796863053720512e-05, 0.0, 6.328647994726281e-06, 0.0, 0.001884388863225737, 0.0, 0.0, 0.0028338505114576637, 0.00013128411060689591, 0.0, 0.0, 5.326512205899712e-05, 0.0015431811557240884, 0.00028944601180476426, 5.0926391965172986e-05, 2.8221905952545072e-05, 3.5227603188371187e-06, 0.0, 7.98254184008743e-05, 0.0009239751885355952, 6.997520689312612e-05, 0.002454979301772858, 0.0, 0.001639623046048108, 0.007484178715063553, 7.162728929288399e-07, 2.6263339407212664e-06, 1.773170413422514e-05, 0.0003879740486454683, 8.05807004543227e-07, 2.148818678774305e-06, 0.0010488257647180404, 0.0, 3.762230587161833e-05, 2.0927440281846817e-05, 0.0007502348167234402, 2.4455603058482758e-05, 0.006915683649364905, 7.162728929234958e-07, 7.068482495979638e-06, 2.9773136302045545e-17, 0.0, 7.535966020704234e-05, 2.6806413350823107e-05, 0.0032549913787426753, 0.0017664269923149396, 0.004068357553839028, 0.0027267917341511835, 0.0, 0.0022527300037740896, 0.00037868429863785333, 0.0038929083901784035, 0.0, 0.0010957335675345465, 0.006576152821883053, 0.0008992740548716872, 0.0, 2.521877477176428e-06, 0.0007980429590519118, 0.001625538833874836, 5.730183143400563e-07, 0.0011276836314573252, 2.6528625663789126e-05, 0.003151128659432253, 0.0018328711984449426, 0.0029550476232507138, 0.0016647228921273394, 0.0, 1.662855069881861e-05, 0.0, 0.0, 0.0008383608587861348, 9.56387101349641e-06, 0.0, 0.000838588375594218, 1.5540563658992602e-06, 0.0, 7.151008100095758e-05, 0.00011425211070242743, 0.002213346133141969, 1.564242324572122e-05, 1.46422708688171e-05, 6.649549713994506e-06, 0.0018301300292964903, 0.003426595212506503, 1.740543129808248e-05, 0.0012958157188233657, 0.0, 0.0, 1.0888200678285182e-05, 0.005251289600181597, 0.0, 0.0032025371427664507, 0.0, 0.0019577873950573648, 0.0, 0.0006198505710815775, 0.0, 0.0, 8.69230131461564e-05, 1.8126587869820144e-05, 0.002358361268072117, 0.007226347605243624]\n",
      "159\n"
     ]
    }
   ],
   "source": [
    "print(list(dt_model.feature_importances_))\n",
    "l=list((dt_model.feature_importances_)*100)\n",
    "print(len(l))"
   ]
  },
  {
   "cell_type": "code",
   "execution_count": 93,
   "id": "eb45261c",
   "metadata": {},
   "outputs": [],
   "source": [
    "train_col=x_train.columns\n",
    "feature_df=pd.DataFrame({'feature':l,'train_col':train_col})"
   ]
  },
  {
   "cell_type": "code",
   "execution_count": 94,
   "id": "9e4569d1",
   "metadata": {},
   "outputs": [
    {
     "data": {
      "text/html": [
       "<div>\n",
       "<style scoped>\n",
       "    .dataframe tbody tr th:only-of-type {\n",
       "        vertical-align: middle;\n",
       "    }\n",
       "\n",
       "    .dataframe tbody tr th {\n",
       "        vertical-align: top;\n",
       "    }\n",
       "\n",
       "    .dataframe thead th {\n",
       "        text-align: right;\n",
       "    }\n",
       "</style>\n",
       "<table border=\"1\" class=\"dataframe\">\n",
       "  <thead>\n",
       "    <tr style=\"text-align: right;\">\n",
       "      <th></th>\n",
       "      <th>feature</th>\n",
       "      <th>train_col</th>\n",
       "    </tr>\n",
       "  </thead>\n",
       "  <tbody>\n",
       "    <tr>\n",
       "      <th>0</th>\n",
       "      <td>61.248188</td>\n",
       "      <td>Reviews</td>\n",
       "    </tr>\n",
       "    <tr>\n",
       "      <th>1</th>\n",
       "      <td>13.747398</td>\n",
       "      <td>Size</td>\n",
       "    </tr>\n",
       "    <tr>\n",
       "      <th>2</th>\n",
       "      <td>4.393598</td>\n",
       "      <td>Installs</td>\n",
       "    </tr>\n",
       "    <tr>\n",
       "      <th>3</th>\n",
       "      <td>0.903902</td>\n",
       "      <td>Price</td>\n",
       "    </tr>\n",
       "    <tr>\n",
       "      <th>38</th>\n",
       "      <td>0.807983</td>\n",
       "      <td>Content Rating_Everyone</td>\n",
       "    </tr>\n",
       "    <tr>\n",
       "      <th>...</th>\n",
       "      <td>...</td>\n",
       "      <td>...</td>\n",
       "    </tr>\n",
       "    <tr>\n",
       "      <th>129</th>\n",
       "      <td>0.000000</td>\n",
       "      <td>Genres_RacingPretend Play</td>\n",
       "    </tr>\n",
       "    <tr>\n",
       "      <th>62</th>\n",
       "      <td>0.000000</td>\n",
       "      <td>Genres_Books  ReferenceEducation</td>\n",
       "    </tr>\n",
       "    <tr>\n",
       "      <th>132</th>\n",
       "      <td>0.000000</td>\n",
       "      <td>Genres_Role PlayingBrain Games</td>\n",
       "    </tr>\n",
       "    <tr>\n",
       "      <th>61</th>\n",
       "      <td>0.000000</td>\n",
       "      <td>Genres_Books  ReferenceCreativity</td>\n",
       "    </tr>\n",
       "    <tr>\n",
       "      <th>66</th>\n",
       "      <td>0.000000</td>\n",
       "      <td>Genres_CardBrain Games</td>\n",
       "    </tr>\n",
       "  </tbody>\n",
       "</table>\n",
       "<p>159 rows × 2 columns</p>\n",
       "</div>"
      ],
      "text/plain": [
       "       feature                          train_col\n",
       "0    61.248188                            Reviews\n",
       "1    13.747398                               Size\n",
       "2     4.393598                           Installs\n",
       "3     0.903902                              Price\n",
       "38    0.807983            Content Rating_Everyone\n",
       "..         ...                                ...\n",
       "129   0.000000          Genres_RacingPretend Play\n",
       "62    0.000000   Genres_Books  ReferenceEducation\n",
       "132   0.000000     Genres_Role PlayingBrain Games\n",
       "61    0.000000  Genres_Books  ReferenceCreativity\n",
       "66    0.000000             Genres_CardBrain Games\n",
       "\n",
       "[159 rows x 2 columns]"
      ]
     },
     "execution_count": 94,
     "metadata": {},
     "output_type": "execute_result"
    }
   ],
   "source": [
    "# VALUES ARE SORTED IN DESENDING ORDER .\n",
    "feature_df.sort_values(by='feature',ascending=False,inplace=True)\n",
    "feature_df"
   ]
  },
  {
   "cell_type": "code",
   "execution_count": 95,
   "id": "6be2a82b",
   "metadata": {},
   "outputs": [],
   "source": [
    "## DROP THE ROW ,VALUES ARE LESS THAN 0.01\n",
    "feature_df=feature_df[feature_df.feature<=0.01]"
   ]
  },
  {
   "cell_type": "code",
   "execution_count": 96,
   "id": "ff198a46",
   "metadata": {},
   "outputs": [
    {
     "name": "stderr",
     "output_type": "stream",
     "text": [
      "F:\\Anaconda\\lib\\site-packages\\pandas\\core\\frame.py:4308: SettingWithCopyWarning: \n",
      "A value is trying to be set on a copy of a slice from a DataFrame\n",
      "\n",
      "See the caveats in the documentation: https://pandas.pydata.org/pandas-docs/stable/user_guide/indexing.html#returning-a-view-versus-a-copy\n",
      "  return super().drop(\n"
     ]
    }
   ],
   "source": [
    "\n",
    "remove_list=list(feature_df['train_col'])\n",
    "#REMOVE THE TRAIN COLUMN IN BOTH TESTING AND TRAINING DATAFRAMES\n",
    "x_train.drop(remove_list,axis=1,inplace=True)\n",
    "x_test.drop(remove_list,axis=1,inplace=True)"
   ]
  },
  {
   "cell_type": "code",
   "execution_count": 97,
   "id": "95f94dfd",
   "metadata": {},
   "outputs": [
    {
     "name": "stdout",
     "output_type": "stream",
     "text": [
      "Accuracy is: 11.0%\n"
     ]
    }
   ],
   "source": [
    "## FIT THE MODEL,FEATUREIMPORTANCE 'X_TRIAN' VALUES.\n",
    "dt_model.fit(x_train,y_train)\n",
    "## PREDICT THE X_TEST DATA.\n",
    "p_df=dt_model.predict(x_test)\n",
    "## CALCULATE THE R2 SCORE VALUES\n",
    "r2_val=r2_score(y_test,Y_Test_Predict)\n",
    "dis_val=round(r2_val,2)*100\n",
    "print(f'Accuracy is: {dis_val}%')"
   ]
  },
  {
   "cell_type": "markdown",
   "id": "2081e77a",
   "metadata": {},
   "source": [
    "## COMPARING THREE MODEL R2 TESTING ACCURACY SCORE."
   ]
  },
  {
   "cell_type": "code",
   "execution_count": 98,
   "id": "ec956c0c",
   "metadata": {},
   "outputs": [],
   "source": [
    "\n",
    "d={'LINEAR REGRESSION ':linear_r2val,'LOGISTIC REGRESSION':log_val,'DICISION TREE':dis_val}\n"
   ]
  },
  {
   "cell_type": "code",
   "execution_count": 99,
   "id": "198625ec",
   "metadata": {},
   "outputs": [
    {
     "name": "stdout",
     "output_type": "stream",
     "text": [
      "{'LINEAR REGRESSION ': 35.0, 'LOGISTIC REGRESSION': 22.0, 'DICISION TREE': 11.0}\n"
     ]
    }
   ],
   "source": [
    "print(d)"
   ]
  },
  {
   "cell_type": "code",
   "execution_count": 100,
   "id": "e46a9d88",
   "metadata": {},
   "outputs": [],
   "source": [
    "d.keys()\n",
    "max_val=max(d.values())"
   ]
  },
  {
   "cell_type": "markdown",
   "id": "900ea69f",
   "metadata": {},
   "source": [
    "## FIND MAXIMUM R2 SCORE VALUE."
   ]
  },
  {
   "cell_type": "code",
   "execution_count": 104,
   "id": "0930a3ba",
   "metadata": {},
   "outputs": [
    {
     "name": "stdout",
     "output_type": "stream",
     "text": [
      "MAXIMUM R2 ACCURACY MODEL IS \u001b[1m\u001b[34mLINEAR REGRESSION \u001b[0m AND VALUE IS : \u001b[1m\u001b[34m35.0\u001b[0m\u001b[1m\u001b[34m%\u001b[0m\n"
     ]
    }
   ],
   "source": [
    "for key,value in d.items():\n",
    "    if(max_val==value):\n",
    "        key=colored(key,'blue',attrs=['bold'])\n",
    "        \n",
    "        value=colored(value,'blue',attrs=['bold'])\n",
    "        percent=colored('%','blue',attrs=['bold'])\n",
    "        print(f'MAXIMUM R2 ACCURACY MODEL IS {key} AND VALUE IS : {str(value)+str(percent)}')\n",
    "        "
   ]
  },
  {
   "cell_type": "code",
   "execution_count": null,
   "id": "78cfc125",
   "metadata": {},
   "outputs": [],
   "source": []
  },
  {
   "cell_type": "code",
   "execution_count": null,
   "id": "940174fe",
   "metadata": {},
   "outputs": [],
   "source": []
  },
  {
   "cell_type": "code",
   "execution_count": null,
   "id": "45b66955",
   "metadata": {},
   "outputs": [],
   "source": []
  },
  {
   "cell_type": "code",
   "execution_count": null,
   "id": "cfe160bc",
   "metadata": {},
   "outputs": [],
   "source": []
  },
  {
   "cell_type": "code",
   "execution_count": null,
   "id": "2ffa2757",
   "metadata": {},
   "outputs": [],
   "source": []
  }
 ],
 "metadata": {
  "kernelspec": {
   "display_name": "Python 3",
   "language": "python",
   "name": "python3"
  },
  "language_info": {
   "codemirror_mode": {
    "name": "ipython",
    "version": 3
   },
   "file_extension": ".py",
   "mimetype": "text/x-python",
   "name": "python",
   "nbconvert_exporter": "python",
   "pygments_lexer": "ipython3",
   "version": "3.8.8"
  }
 },
 "nbformat": 4,
 "nbformat_minor": 5
}
